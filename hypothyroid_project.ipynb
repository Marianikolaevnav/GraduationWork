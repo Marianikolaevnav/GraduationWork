{
  "cells": [
    {
      "cell_type": "code",
      "source": [
        "from itertools import product\n",
        "\n",
        "import numpy as np\n",
        "import pandas as pd\n",
        "import matplotlib.pyplot as plt\n",
        "from sklearn.preprocessing import LabelEncoder\n",
        "from sklearn.neighbors import LocalOutlierFactor\n",
        "from sklearn.utils import resample\n",
        "from sklearn.cluster import KMeans, AgglomerativeClustering, MeanShift, DBSCAN\n",
        "from sklearn.model_selection import train_test_split\n",
        "from sklearn.metrics import silhouette_score\n",
        "import seaborn as sn"
      ],
      "metadata": {
        "id": "gMesXS-2AUXq"
      },
      "id": "gMesXS-2AUXq",
      "execution_count": 1,
      "outputs": []
    },
    {
      "cell_type": "markdown",
      "source": [
        "Прочитаем данные и изучим их структуру"
      ],
      "metadata": {
        "id": "aPpAo9IXBHc3"
      },
      "id": "aPpAo9IXBHc3"
    },
    {
      "cell_type": "code",
      "execution_count": 2,
      "id": "0d3eba61",
      "metadata": {
        "execution": {
          "iopub.execute_input": "2022-11-08T06:21:52.239748Z",
          "iopub.status.busy": "2022-11-08T06:21:52.237142Z",
          "iopub.status.idle": "2022-11-08T06:21:52.323207Z",
          "shell.execute_reply": "2022-11-08T06:21:52.321887Z"
        },
        "papermill": {
          "duration": 0.09611,
          "end_time": "2022-11-08T06:21:52.326395",
          "exception": false,
          "start_time": "2022-11-08T06:21:52.230285",
          "status": "completed"
        },
        "tags": [],
        "colab": {
          "base_uri": "https://localhost:8080/",
          "height": 334
        },
        "id": "0d3eba61",
        "outputId": "73d9bde3-91b6-4c92-9e8b-7d7fd6b0a705"
      },
      "outputs": [
        {
          "output_type": "execute_result",
          "data": {
            "text/plain": [
              "  age sex on thyroxine query on thyroxine on antithyroid medication sick  \\\n",
              "0  41   F            f                  f                         f    f   \n",
              "1  23   F            f                  f                         f    f   \n",
              "2  46   M            f                  f                         f    f   \n",
              "3  70   F            t                  f                         f    f   \n",
              "4  70   F            f                  f                         f    f   \n",
              "\n",
              "  pregnant thyroid surgery I131 treatment query hypothyroid  ... TT4 measured  \\\n",
              "0        f               f              f                 f  ...            t   \n",
              "1        f               f              f                 f  ...            t   \n",
              "2        f               f              f                 f  ...            t   \n",
              "3        f               f              f                 f  ...            t   \n",
              "4        f               f              f                 f  ...            t   \n",
              "\n",
              "   TT4 T4U measured   T4U FTI measured  FTI TBG measured TBG referral source  \\\n",
              "0  125            t  1.14            t  109            f   ?            SVHC   \n",
              "1  102            f     ?            f    ?            f   ?           other   \n",
              "2  109            t  0.91            t  120            f   ?           other   \n",
              "3  175            f     ?            f    ?            f   ?           other   \n",
              "4   61            t  0.87            t   70            f   ?             SVI   \n",
              "\n",
              "  binaryClass  \n",
              "0           P  \n",
              "1           P  \n",
              "2           P  \n",
              "3           P  \n",
              "4           P  \n",
              "\n",
              "[5 rows x 30 columns]"
            ],
            "text/html": [
              "\n",
              "  <div id=\"df-1e47a4de-96d0-424a-8459-7987f663a632\">\n",
              "    <div class=\"colab-df-container\">\n",
              "      <div>\n",
              "<style scoped>\n",
              "    .dataframe tbody tr th:only-of-type {\n",
              "        vertical-align: middle;\n",
              "    }\n",
              "\n",
              "    .dataframe tbody tr th {\n",
              "        vertical-align: top;\n",
              "    }\n",
              "\n",
              "    .dataframe thead th {\n",
              "        text-align: right;\n",
              "    }\n",
              "</style>\n",
              "<table border=\"1\" class=\"dataframe\">\n",
              "  <thead>\n",
              "    <tr style=\"text-align: right;\">\n",
              "      <th></th>\n",
              "      <th>age</th>\n",
              "      <th>sex</th>\n",
              "      <th>on thyroxine</th>\n",
              "      <th>query on thyroxine</th>\n",
              "      <th>on antithyroid medication</th>\n",
              "      <th>sick</th>\n",
              "      <th>pregnant</th>\n",
              "      <th>thyroid surgery</th>\n",
              "      <th>I131 treatment</th>\n",
              "      <th>query hypothyroid</th>\n",
              "      <th>...</th>\n",
              "      <th>TT4 measured</th>\n",
              "      <th>TT4</th>\n",
              "      <th>T4U measured</th>\n",
              "      <th>T4U</th>\n",
              "      <th>FTI measured</th>\n",
              "      <th>FTI</th>\n",
              "      <th>TBG measured</th>\n",
              "      <th>TBG</th>\n",
              "      <th>referral source</th>\n",
              "      <th>binaryClass</th>\n",
              "    </tr>\n",
              "  </thead>\n",
              "  <tbody>\n",
              "    <tr>\n",
              "      <th>0</th>\n",
              "      <td>41</td>\n",
              "      <td>F</td>\n",
              "      <td>f</td>\n",
              "      <td>f</td>\n",
              "      <td>f</td>\n",
              "      <td>f</td>\n",
              "      <td>f</td>\n",
              "      <td>f</td>\n",
              "      <td>f</td>\n",
              "      <td>f</td>\n",
              "      <td>...</td>\n",
              "      <td>t</td>\n",
              "      <td>125</td>\n",
              "      <td>t</td>\n",
              "      <td>1.14</td>\n",
              "      <td>t</td>\n",
              "      <td>109</td>\n",
              "      <td>f</td>\n",
              "      <td>?</td>\n",
              "      <td>SVHC</td>\n",
              "      <td>P</td>\n",
              "    </tr>\n",
              "    <tr>\n",
              "      <th>1</th>\n",
              "      <td>23</td>\n",
              "      <td>F</td>\n",
              "      <td>f</td>\n",
              "      <td>f</td>\n",
              "      <td>f</td>\n",
              "      <td>f</td>\n",
              "      <td>f</td>\n",
              "      <td>f</td>\n",
              "      <td>f</td>\n",
              "      <td>f</td>\n",
              "      <td>...</td>\n",
              "      <td>t</td>\n",
              "      <td>102</td>\n",
              "      <td>f</td>\n",
              "      <td>?</td>\n",
              "      <td>f</td>\n",
              "      <td>?</td>\n",
              "      <td>f</td>\n",
              "      <td>?</td>\n",
              "      <td>other</td>\n",
              "      <td>P</td>\n",
              "    </tr>\n",
              "    <tr>\n",
              "      <th>2</th>\n",
              "      <td>46</td>\n",
              "      <td>M</td>\n",
              "      <td>f</td>\n",
              "      <td>f</td>\n",
              "      <td>f</td>\n",
              "      <td>f</td>\n",
              "      <td>f</td>\n",
              "      <td>f</td>\n",
              "      <td>f</td>\n",
              "      <td>f</td>\n",
              "      <td>...</td>\n",
              "      <td>t</td>\n",
              "      <td>109</td>\n",
              "      <td>t</td>\n",
              "      <td>0.91</td>\n",
              "      <td>t</td>\n",
              "      <td>120</td>\n",
              "      <td>f</td>\n",
              "      <td>?</td>\n",
              "      <td>other</td>\n",
              "      <td>P</td>\n",
              "    </tr>\n",
              "    <tr>\n",
              "      <th>3</th>\n",
              "      <td>70</td>\n",
              "      <td>F</td>\n",
              "      <td>t</td>\n",
              "      <td>f</td>\n",
              "      <td>f</td>\n",
              "      <td>f</td>\n",
              "      <td>f</td>\n",
              "      <td>f</td>\n",
              "      <td>f</td>\n",
              "      <td>f</td>\n",
              "      <td>...</td>\n",
              "      <td>t</td>\n",
              "      <td>175</td>\n",
              "      <td>f</td>\n",
              "      <td>?</td>\n",
              "      <td>f</td>\n",
              "      <td>?</td>\n",
              "      <td>f</td>\n",
              "      <td>?</td>\n",
              "      <td>other</td>\n",
              "      <td>P</td>\n",
              "    </tr>\n",
              "    <tr>\n",
              "      <th>4</th>\n",
              "      <td>70</td>\n",
              "      <td>F</td>\n",
              "      <td>f</td>\n",
              "      <td>f</td>\n",
              "      <td>f</td>\n",
              "      <td>f</td>\n",
              "      <td>f</td>\n",
              "      <td>f</td>\n",
              "      <td>f</td>\n",
              "      <td>f</td>\n",
              "      <td>...</td>\n",
              "      <td>t</td>\n",
              "      <td>61</td>\n",
              "      <td>t</td>\n",
              "      <td>0.87</td>\n",
              "      <td>t</td>\n",
              "      <td>70</td>\n",
              "      <td>f</td>\n",
              "      <td>?</td>\n",
              "      <td>SVI</td>\n",
              "      <td>P</td>\n",
              "    </tr>\n",
              "  </tbody>\n",
              "</table>\n",
              "<p>5 rows × 30 columns</p>\n",
              "</div>\n",
              "      <button class=\"colab-df-convert\" onclick=\"convertToInteractive('df-1e47a4de-96d0-424a-8459-7987f663a632')\"\n",
              "              title=\"Convert this dataframe to an interactive table.\"\n",
              "              style=\"display:none;\">\n",
              "        \n",
              "  <svg xmlns=\"http://www.w3.org/2000/svg\" height=\"24px\"viewBox=\"0 0 24 24\"\n",
              "       width=\"24px\">\n",
              "    <path d=\"M0 0h24v24H0V0z\" fill=\"none\"/>\n",
              "    <path d=\"M18.56 5.44l.94 2.06.94-2.06 2.06-.94-2.06-.94-.94-2.06-.94 2.06-2.06.94zm-11 1L8.5 8.5l.94-2.06 2.06-.94-2.06-.94L8.5 2.5l-.94 2.06-2.06.94zm10 10l.94 2.06.94-2.06 2.06-.94-2.06-.94-.94-2.06-.94 2.06-2.06.94z\"/><path d=\"M17.41 7.96l-1.37-1.37c-.4-.4-.92-.59-1.43-.59-.52 0-1.04.2-1.43.59L10.3 9.45l-7.72 7.72c-.78.78-.78 2.05 0 2.83L4 21.41c.39.39.9.59 1.41.59.51 0 1.02-.2 1.41-.59l7.78-7.78 2.81-2.81c.8-.78.8-2.07 0-2.86zM5.41 20L4 18.59l7.72-7.72 1.47 1.35L5.41 20z\"/>\n",
              "  </svg>\n",
              "      </button>\n",
              "      \n",
              "  <style>\n",
              "    .colab-df-container {\n",
              "      display:flex;\n",
              "      flex-wrap:wrap;\n",
              "      gap: 12px;\n",
              "    }\n",
              "\n",
              "    .colab-df-convert {\n",
              "      background-color: #E8F0FE;\n",
              "      border: none;\n",
              "      border-radius: 50%;\n",
              "      cursor: pointer;\n",
              "      display: none;\n",
              "      fill: #1967D2;\n",
              "      height: 32px;\n",
              "      padding: 0 0 0 0;\n",
              "      width: 32px;\n",
              "    }\n",
              "\n",
              "    .colab-df-convert:hover {\n",
              "      background-color: #E2EBFA;\n",
              "      box-shadow: 0px 1px 2px rgba(60, 64, 67, 0.3), 0px 1px 3px 1px rgba(60, 64, 67, 0.15);\n",
              "      fill: #174EA6;\n",
              "    }\n",
              "\n",
              "    [theme=dark] .colab-df-convert {\n",
              "      background-color: #3B4455;\n",
              "      fill: #D2E3FC;\n",
              "    }\n",
              "\n",
              "    [theme=dark] .colab-df-convert:hover {\n",
              "      background-color: #434B5C;\n",
              "      box-shadow: 0px 1px 3px 1px rgba(0, 0, 0, 0.15);\n",
              "      filter: drop-shadow(0px 1px 2px rgba(0, 0, 0, 0.3));\n",
              "      fill: #FFFFFF;\n",
              "    }\n",
              "  </style>\n",
              "\n",
              "      <script>\n",
              "        const buttonEl =\n",
              "          document.querySelector('#df-1e47a4de-96d0-424a-8459-7987f663a632 button.colab-df-convert');\n",
              "        buttonEl.style.display =\n",
              "          google.colab.kernel.accessAllowed ? 'block' : 'none';\n",
              "\n",
              "        async function convertToInteractive(key) {\n",
              "          const element = document.querySelector('#df-1e47a4de-96d0-424a-8459-7987f663a632');\n",
              "          const dataTable =\n",
              "            await google.colab.kernel.invokeFunction('convertToInteractive',\n",
              "                                                     [key], {});\n",
              "          if (!dataTable) return;\n",
              "\n",
              "          const docLinkHtml = 'Like what you see? Visit the ' +\n",
              "            '<a target=\"_blank\" href=https://colab.research.google.com/notebooks/data_table.ipynb>data table notebook</a>'\n",
              "            + ' to learn more about interactive tables.';\n",
              "          element.innerHTML = '';\n",
              "          dataTable['output_type'] = 'display_data';\n",
              "          await google.colab.output.renderOutput(dataTable, element);\n",
              "          const docLink = document.createElement('div');\n",
              "          docLink.innerHTML = docLinkHtml;\n",
              "          element.appendChild(docLink);\n",
              "        }\n",
              "      </script>\n",
              "    </div>\n",
              "  </div>\n",
              "  "
            ]
          },
          "metadata": {},
          "execution_count": 2
        }
      ],
      "source": [
        "data=pd.read_csv('/content/hypothyroid.csv')\n",
        "data.head()"
      ]
    },
    {
      "cell_type": "code",
      "execution_count": 3,
      "id": "a5d84600",
      "metadata": {
        "execution": {
          "iopub.execute_input": "2022-11-08T06:21:52.338061Z",
          "iopub.status.busy": "2022-11-08T06:21:52.337627Z",
          "iopub.status.idle": "2022-11-08T06:21:52.371019Z",
          "shell.execute_reply": "2022-11-08T06:21:52.369355Z"
        },
        "papermill": {
          "duration": 0.043071,
          "end_time": "2022-11-08T06:21:52.374290",
          "exception": false,
          "start_time": "2022-11-08T06:21:52.331219",
          "status": "completed"
        },
        "tags": [],
        "colab": {
          "base_uri": "https://localhost:8080/"
        },
        "id": "a5d84600",
        "outputId": "548e302e-d742-4cb3-aa6b-0d3c07d68de9"
      },
      "outputs": [
        {
          "output_type": "stream",
          "name": "stdout",
          "text": [
            "<class 'pandas.core.frame.DataFrame'>\n",
            "RangeIndex: 3772 entries, 0 to 3771\n",
            "Data columns (total 30 columns):\n",
            " #   Column                     Non-Null Count  Dtype \n",
            "---  ------                     --------------  ----- \n",
            " 0   age                        3772 non-null   object\n",
            " 1   sex                        3772 non-null   object\n",
            " 2   on thyroxine               3772 non-null   object\n",
            " 3   query on thyroxine         3772 non-null   object\n",
            " 4   on antithyroid medication  3772 non-null   object\n",
            " 5   sick                       3772 non-null   object\n",
            " 6   pregnant                   3772 non-null   object\n",
            " 7   thyroid surgery            3772 non-null   object\n",
            " 8   I131 treatment             3772 non-null   object\n",
            " 9   query hypothyroid          3772 non-null   object\n",
            " 10  query hyperthyroid         3772 non-null   object\n",
            " 11  lithium                    3772 non-null   object\n",
            " 12  goitre                     3772 non-null   object\n",
            " 13  tumor                      3772 non-null   object\n",
            " 14  hypopituitary              3772 non-null   object\n",
            " 15  psych                      3772 non-null   object\n",
            " 16  TSH measured               3772 non-null   object\n",
            " 17  TSH                        3772 non-null   object\n",
            " 18  T3 measured                3772 non-null   object\n",
            " 19  T3                         3772 non-null   object\n",
            " 20  TT4 measured               3772 non-null   object\n",
            " 21  TT4                        3772 non-null   object\n",
            " 22  T4U measured               3772 non-null   object\n",
            " 23  T4U                        3772 non-null   object\n",
            " 24  FTI measured               3772 non-null   object\n",
            " 25  FTI                        3772 non-null   object\n",
            " 26  TBG measured               3772 non-null   object\n",
            " 27  TBG                        3772 non-null   object\n",
            " 28  referral source            3772 non-null   object\n",
            " 29  binaryClass                3772 non-null   object\n",
            "dtypes: object(30)\n",
            "memory usage: 884.2+ KB\n"
          ]
        }
      ],
      "source": [
        "data.info()"
      ]
    },
    {
      "cell_type": "markdown",
      "source": [
        "Среди значений параметра `sex` есть значения `?`, которое указывает, что здесь данные пропущены."
      ],
      "metadata": {
        "id": "physhZP1Co2h"
      },
      "id": "physhZP1Co2h"
    },
    {
      "cell_type": "markdown",
      "source": [
        "Все столбцы имеют тип данных `object`, используем кодирование для получения численного представления признаков."
      ],
      "metadata": {
        "id": "RBjWPPDxBX7q"
      },
      "id": "RBjWPPDxBX7q"
    },
    {
      "cell_type": "code",
      "execution_count": 4,
      "id": "379e5bf2",
      "metadata": {
        "execution": {
          "iopub.execute_input": "2022-11-08T06:21:52.385932Z",
          "iopub.status.busy": "2022-11-08T06:21:52.385493Z",
          "iopub.status.idle": "2022-11-08T06:21:53.541394Z",
          "shell.execute_reply": "2022-11-08T06:21:53.539028Z"
        },
        "papermill": {
          "duration": 1.165462,
          "end_time": "2022-11-08T06:21:53.544738",
          "exception": false,
          "start_time": "2022-11-08T06:21:52.379276",
          "status": "completed"
        },
        "tags": [],
        "colab": {
          "base_uri": "https://localhost:8080/"
        },
        "id": "379e5bf2",
        "outputId": "884f4955-dcaa-4cdc-c159-54f6d238b48f"
      },
      "outputs": [
        {
          "output_type": "stream",
          "name": "stdout",
          "text": [
            "<class 'pandas.core.frame.DataFrame'>\n",
            "RangeIndex: 3772 entries, 0 to 3771\n",
            "Data columns (total 30 columns):\n",
            " #   Column                     Non-Null Count  Dtype\n",
            "---  ------                     --------------  -----\n",
            " 0   age                        3772 non-null   int64\n",
            " 1   sex                        3772 non-null   int64\n",
            " 2   on thyroxine               3772 non-null   int64\n",
            " 3   query on thyroxine         3772 non-null   int64\n",
            " 4   on antithyroid medication  3772 non-null   int64\n",
            " 5   sick                       3772 non-null   int64\n",
            " 6   pregnant                   3772 non-null   int64\n",
            " 7   thyroid surgery            3772 non-null   int64\n",
            " 8   I131 treatment             3772 non-null   int64\n",
            " 9   query hypothyroid          3772 non-null   int64\n",
            " 10  query hyperthyroid         3772 non-null   int64\n",
            " 11  lithium                    3772 non-null   int64\n",
            " 12  goitre                     3772 non-null   int64\n",
            " 13  tumor                      3772 non-null   int64\n",
            " 14  hypopituitary              3772 non-null   int64\n",
            " 15  psych                      3772 non-null   int64\n",
            " 16  TSH measured               3772 non-null   int64\n",
            " 17  TSH                        3772 non-null   int64\n",
            " 18  T3 measured                3772 non-null   int64\n",
            " 19  T3                         3772 non-null   int64\n",
            " 20  TT4 measured               3772 non-null   int64\n",
            " 21  TT4                        3772 non-null   int64\n",
            " 22  T4U measured               3772 non-null   int64\n",
            " 23  T4U                        3772 non-null   int64\n",
            " 24  FTI measured               3772 non-null   int64\n",
            " 25  FTI                        3772 non-null   int64\n",
            " 26  TBG measured               3772 non-null   int64\n",
            " 27  TBG                        3772 non-null   int64\n",
            " 28  referral source            3772 non-null   int64\n",
            " 29  binaryClass                3772 non-null   int64\n",
            "dtypes: int64(30)\n",
            "memory usage: 884.2 KB\n"
          ]
        }
      ],
      "source": [
        "encoders = {}\n",
        "for x in data.columns:\n",
        "    encoders[x] = LabelEncoder().fit(data[x])\n",
        "    data[x]= encoders[x].transform(data[x])\n",
        "data.info()"
      ]
    },
    {
      "cell_type": "code",
      "execution_count": 5,
      "id": "55175843",
      "metadata": {
        "execution": {
          "iopub.execute_input": "2022-11-08T06:21:53.556758Z",
          "iopub.status.busy": "2022-11-08T06:21:53.556355Z",
          "iopub.status.idle": "2022-11-08T06:21:53.579263Z",
          "shell.execute_reply": "2022-11-08T06:21:53.577816Z"
        },
        "papermill": {
          "duration": 0.031948,
          "end_time": "2022-11-08T06:21:53.581887",
          "exception": false,
          "start_time": "2022-11-08T06:21:53.549939",
          "status": "completed"
        },
        "tags": [],
        "colab": {
          "base_uri": "https://localhost:8080/",
          "height": 334
        },
        "id": "55175843",
        "outputId": "c94afac5-0613-4372-c137-ce915f65d3ed"
      },
      "outputs": [
        {
          "output_type": "execute_result",
          "data": {
            "text/plain": [
              "   age  sex  on thyroxine  query on thyroxine  on antithyroid medication  \\\n",
              "0   34    1             0                   0                          0   \n",
              "1   15    1             0                   0                          0   \n",
              "2   40    2             0                   0                          0   \n",
              "3   67    1             1                   0                          0   \n",
              "4   67    1             0                   0                          0   \n",
              "\n",
              "   sick  pregnant  thyroid surgery  I131 treatment  query hypothyroid  ...  \\\n",
              "0     0         0                0               0                  0  ...   \n",
              "1     0         0                0               0                  0  ...   \n",
              "2     0         0                0               0                  0  ...   \n",
              "3     0         0                0               0                  0  ...   \n",
              "4     0         0                0               0                  0  ...   \n",
              "\n",
              "   TT4 measured  TT4  T4U measured  T4U  FTI measured  FTI  TBG measured  TBG  \\\n",
              "0             1   28             1   72             1   10             0    0   \n",
              "1             1    3             0  146             0  234             0    0   \n",
              "2             1   10             1   48             1   22             0    0   \n",
              "3             1   83             0  146             0  234             0    0   \n",
              "4             1  201             1   44             1  199             0    0   \n",
              "\n",
              "   referral source  binaryClass  \n",
              "0                1            1  \n",
              "1                4            1  \n",
              "2                4            1  \n",
              "3                4            1  \n",
              "4                3            1  \n",
              "\n",
              "[5 rows x 30 columns]"
            ],
            "text/html": [
              "\n",
              "  <div id=\"df-458d0d01-eb45-44a3-a413-85d5b0e16149\">\n",
              "    <div class=\"colab-df-container\">\n",
              "      <div>\n",
              "<style scoped>\n",
              "    .dataframe tbody tr th:only-of-type {\n",
              "        vertical-align: middle;\n",
              "    }\n",
              "\n",
              "    .dataframe tbody tr th {\n",
              "        vertical-align: top;\n",
              "    }\n",
              "\n",
              "    .dataframe thead th {\n",
              "        text-align: right;\n",
              "    }\n",
              "</style>\n",
              "<table border=\"1\" class=\"dataframe\">\n",
              "  <thead>\n",
              "    <tr style=\"text-align: right;\">\n",
              "      <th></th>\n",
              "      <th>age</th>\n",
              "      <th>sex</th>\n",
              "      <th>on thyroxine</th>\n",
              "      <th>query on thyroxine</th>\n",
              "      <th>on antithyroid medication</th>\n",
              "      <th>sick</th>\n",
              "      <th>pregnant</th>\n",
              "      <th>thyroid surgery</th>\n",
              "      <th>I131 treatment</th>\n",
              "      <th>query hypothyroid</th>\n",
              "      <th>...</th>\n",
              "      <th>TT4 measured</th>\n",
              "      <th>TT4</th>\n",
              "      <th>T4U measured</th>\n",
              "      <th>T4U</th>\n",
              "      <th>FTI measured</th>\n",
              "      <th>FTI</th>\n",
              "      <th>TBG measured</th>\n",
              "      <th>TBG</th>\n",
              "      <th>referral source</th>\n",
              "      <th>binaryClass</th>\n",
              "    </tr>\n",
              "  </thead>\n",
              "  <tbody>\n",
              "    <tr>\n",
              "      <th>0</th>\n",
              "      <td>34</td>\n",
              "      <td>1</td>\n",
              "      <td>0</td>\n",
              "      <td>0</td>\n",
              "      <td>0</td>\n",
              "      <td>0</td>\n",
              "      <td>0</td>\n",
              "      <td>0</td>\n",
              "      <td>0</td>\n",
              "      <td>0</td>\n",
              "      <td>...</td>\n",
              "      <td>1</td>\n",
              "      <td>28</td>\n",
              "      <td>1</td>\n",
              "      <td>72</td>\n",
              "      <td>1</td>\n",
              "      <td>10</td>\n",
              "      <td>0</td>\n",
              "      <td>0</td>\n",
              "      <td>1</td>\n",
              "      <td>1</td>\n",
              "    </tr>\n",
              "    <tr>\n",
              "      <th>1</th>\n",
              "      <td>15</td>\n",
              "      <td>1</td>\n",
              "      <td>0</td>\n",
              "      <td>0</td>\n",
              "      <td>0</td>\n",
              "      <td>0</td>\n",
              "      <td>0</td>\n",
              "      <td>0</td>\n",
              "      <td>0</td>\n",
              "      <td>0</td>\n",
              "      <td>...</td>\n",
              "      <td>1</td>\n",
              "      <td>3</td>\n",
              "      <td>0</td>\n",
              "      <td>146</td>\n",
              "      <td>0</td>\n",
              "      <td>234</td>\n",
              "      <td>0</td>\n",
              "      <td>0</td>\n",
              "      <td>4</td>\n",
              "      <td>1</td>\n",
              "    </tr>\n",
              "    <tr>\n",
              "      <th>2</th>\n",
              "      <td>40</td>\n",
              "      <td>2</td>\n",
              "      <td>0</td>\n",
              "      <td>0</td>\n",
              "      <td>0</td>\n",
              "      <td>0</td>\n",
              "      <td>0</td>\n",
              "      <td>0</td>\n",
              "      <td>0</td>\n",
              "      <td>0</td>\n",
              "      <td>...</td>\n",
              "      <td>1</td>\n",
              "      <td>10</td>\n",
              "      <td>1</td>\n",
              "      <td>48</td>\n",
              "      <td>1</td>\n",
              "      <td>22</td>\n",
              "      <td>0</td>\n",
              "      <td>0</td>\n",
              "      <td>4</td>\n",
              "      <td>1</td>\n",
              "    </tr>\n",
              "    <tr>\n",
              "      <th>3</th>\n",
              "      <td>67</td>\n",
              "      <td>1</td>\n",
              "      <td>1</td>\n",
              "      <td>0</td>\n",
              "      <td>0</td>\n",
              "      <td>0</td>\n",
              "      <td>0</td>\n",
              "      <td>0</td>\n",
              "      <td>0</td>\n",
              "      <td>0</td>\n",
              "      <td>...</td>\n",
              "      <td>1</td>\n",
              "      <td>83</td>\n",
              "      <td>0</td>\n",
              "      <td>146</td>\n",
              "      <td>0</td>\n",
              "      <td>234</td>\n",
              "      <td>0</td>\n",
              "      <td>0</td>\n",
              "      <td>4</td>\n",
              "      <td>1</td>\n",
              "    </tr>\n",
              "    <tr>\n",
              "      <th>4</th>\n",
              "      <td>67</td>\n",
              "      <td>1</td>\n",
              "      <td>0</td>\n",
              "      <td>0</td>\n",
              "      <td>0</td>\n",
              "      <td>0</td>\n",
              "      <td>0</td>\n",
              "      <td>0</td>\n",
              "      <td>0</td>\n",
              "      <td>0</td>\n",
              "      <td>...</td>\n",
              "      <td>1</td>\n",
              "      <td>201</td>\n",
              "      <td>1</td>\n",
              "      <td>44</td>\n",
              "      <td>1</td>\n",
              "      <td>199</td>\n",
              "      <td>0</td>\n",
              "      <td>0</td>\n",
              "      <td>3</td>\n",
              "      <td>1</td>\n",
              "    </tr>\n",
              "  </tbody>\n",
              "</table>\n",
              "<p>5 rows × 30 columns</p>\n",
              "</div>\n",
              "      <button class=\"colab-df-convert\" onclick=\"convertToInteractive('df-458d0d01-eb45-44a3-a413-85d5b0e16149')\"\n",
              "              title=\"Convert this dataframe to an interactive table.\"\n",
              "              style=\"display:none;\">\n",
              "        \n",
              "  <svg xmlns=\"http://www.w3.org/2000/svg\" height=\"24px\"viewBox=\"0 0 24 24\"\n",
              "       width=\"24px\">\n",
              "    <path d=\"M0 0h24v24H0V0z\" fill=\"none\"/>\n",
              "    <path d=\"M18.56 5.44l.94 2.06.94-2.06 2.06-.94-2.06-.94-.94-2.06-.94 2.06-2.06.94zm-11 1L8.5 8.5l.94-2.06 2.06-.94-2.06-.94L8.5 2.5l-.94 2.06-2.06.94zm10 10l.94 2.06.94-2.06 2.06-.94-2.06-.94-.94-2.06-.94 2.06-2.06.94z\"/><path d=\"M17.41 7.96l-1.37-1.37c-.4-.4-.92-.59-1.43-.59-.52 0-1.04.2-1.43.59L10.3 9.45l-7.72 7.72c-.78.78-.78 2.05 0 2.83L4 21.41c.39.39.9.59 1.41.59.51 0 1.02-.2 1.41-.59l7.78-7.78 2.81-2.81c.8-.78.8-2.07 0-2.86zM5.41 20L4 18.59l7.72-7.72 1.47 1.35L5.41 20z\"/>\n",
              "  </svg>\n",
              "      </button>\n",
              "      \n",
              "  <style>\n",
              "    .colab-df-container {\n",
              "      display:flex;\n",
              "      flex-wrap:wrap;\n",
              "      gap: 12px;\n",
              "    }\n",
              "\n",
              "    .colab-df-convert {\n",
              "      background-color: #E8F0FE;\n",
              "      border: none;\n",
              "      border-radius: 50%;\n",
              "      cursor: pointer;\n",
              "      display: none;\n",
              "      fill: #1967D2;\n",
              "      height: 32px;\n",
              "      padding: 0 0 0 0;\n",
              "      width: 32px;\n",
              "    }\n",
              "\n",
              "    .colab-df-convert:hover {\n",
              "      background-color: #E2EBFA;\n",
              "      box-shadow: 0px 1px 2px rgba(60, 64, 67, 0.3), 0px 1px 3px 1px rgba(60, 64, 67, 0.15);\n",
              "      fill: #174EA6;\n",
              "    }\n",
              "\n",
              "    [theme=dark] .colab-df-convert {\n",
              "      background-color: #3B4455;\n",
              "      fill: #D2E3FC;\n",
              "    }\n",
              "\n",
              "    [theme=dark] .colab-df-convert:hover {\n",
              "      background-color: #434B5C;\n",
              "      box-shadow: 0px 1px 3px 1px rgba(0, 0, 0, 0.15);\n",
              "      filter: drop-shadow(0px 1px 2px rgba(0, 0, 0, 0.3));\n",
              "      fill: #FFFFFF;\n",
              "    }\n",
              "  </style>\n",
              "\n",
              "      <script>\n",
              "        const buttonEl =\n",
              "          document.querySelector('#df-458d0d01-eb45-44a3-a413-85d5b0e16149 button.colab-df-convert');\n",
              "        buttonEl.style.display =\n",
              "          google.colab.kernel.accessAllowed ? 'block' : 'none';\n",
              "\n",
              "        async function convertToInteractive(key) {\n",
              "          const element = document.querySelector('#df-458d0d01-eb45-44a3-a413-85d5b0e16149');\n",
              "          const dataTable =\n",
              "            await google.colab.kernel.invokeFunction('convertToInteractive',\n",
              "                                                     [key], {});\n",
              "          if (!dataTable) return;\n",
              "\n",
              "          const docLinkHtml = 'Like what you see? Visit the ' +\n",
              "            '<a target=\"_blank\" href=https://colab.research.google.com/notebooks/data_table.ipynb>data table notebook</a>'\n",
              "            + ' to learn more about interactive tables.';\n",
              "          element.innerHTML = '';\n",
              "          dataTable['output_type'] = 'display_data';\n",
              "          await google.colab.output.renderOutput(dataTable, element);\n",
              "          const docLink = document.createElement('div');\n",
              "          docLink.innerHTML = docLinkHtml;\n",
              "          element.appendChild(docLink);\n",
              "        }\n",
              "      </script>\n",
              "    </div>\n",
              "  </div>\n",
              "  "
            ]
          },
          "metadata": {},
          "execution_count": 5
        }
      ],
      "source": [
        "data.head()"
      ]
    },
    {
      "cell_type": "markdown",
      "source": [
        "### Удалим дубликаты из таблицы"
      ],
      "metadata": {
        "id": "UdfOE3xCB0Yh"
      },
      "id": "UdfOE3xCB0Yh"
    },
    {
      "cell_type": "code",
      "execution_count": 6,
      "id": "c37b6fe1",
      "metadata": {
        "execution": {
          "iopub.execute_input": "2022-11-08T06:21:53.595033Z",
          "iopub.status.busy": "2022-11-08T06:21:53.594604Z",
          "iopub.status.idle": "2022-11-08T06:21:53.621596Z",
          "shell.execute_reply": "2022-11-08T06:21:53.619660Z"
        },
        "papermill": {
          "duration": 0.038015,
          "end_time": "2022-11-08T06:21:53.625512",
          "exception": false,
          "start_time": "2022-11-08T06:21:53.587497",
          "status": "completed"
        },
        "tags": [],
        "colab": {
          "base_uri": "https://localhost:8080/"
        },
        "id": "c37b6fe1",
        "outputId": "13a6f048-f174-4038-d2c5-045eaf6a6f0f"
      },
      "outputs": [
        {
          "output_type": "stream",
          "name": "stdout",
          "text": [
            "<class 'pandas.core.frame.DataFrame'>\n",
            "Int64Index: 3711 entries, 0 to 3771\n",
            "Data columns (total 30 columns):\n",
            " #   Column                     Non-Null Count  Dtype\n",
            "---  ------                     --------------  -----\n",
            " 0   age                        3711 non-null   int64\n",
            " 1   sex                        3711 non-null   int64\n",
            " 2   on thyroxine               3711 non-null   int64\n",
            " 3   query on thyroxine         3711 non-null   int64\n",
            " 4   on antithyroid medication  3711 non-null   int64\n",
            " 5   sick                       3711 non-null   int64\n",
            " 6   pregnant                   3711 non-null   int64\n",
            " 7   thyroid surgery            3711 non-null   int64\n",
            " 8   I131 treatment             3711 non-null   int64\n",
            " 9   query hypothyroid          3711 non-null   int64\n",
            " 10  query hyperthyroid         3711 non-null   int64\n",
            " 11  lithium                    3711 non-null   int64\n",
            " 12  goitre                     3711 non-null   int64\n",
            " 13  tumor                      3711 non-null   int64\n",
            " 14  hypopituitary              3711 non-null   int64\n",
            " 15  psych                      3711 non-null   int64\n",
            " 16  TSH measured               3711 non-null   int64\n",
            " 17  TSH                        3711 non-null   int64\n",
            " 18  T3 measured                3711 non-null   int64\n",
            " 19  T3                         3711 non-null   int64\n",
            " 20  TT4 measured               3711 non-null   int64\n",
            " 21  TT4                        3711 non-null   int64\n",
            " 22  T4U measured               3711 non-null   int64\n",
            " 23  T4U                        3711 non-null   int64\n",
            " 24  FTI measured               3711 non-null   int64\n",
            " 25  FTI                        3711 non-null   int64\n",
            " 26  TBG measured               3711 non-null   int64\n",
            " 27  TBG                        3711 non-null   int64\n",
            " 28  referral source            3711 non-null   int64\n",
            " 29  binaryClass                3711 non-null   int64\n",
            "dtypes: int64(30)\n",
            "memory usage: 898.8 KB\n"
          ]
        }
      ],
      "source": [
        "data = data.drop_duplicates()\n",
        "data.info()"
      ]
    },
    {
      "cell_type": "markdown",
      "source": [
        "### Удаление аномалий\n"
      ],
      "metadata": {
        "id": "YoV2HldWJpzJ"
      },
      "id": "YoV2HldWJpzJ"
    },
    {
      "cell_type": "code",
      "source": [
        "N_before = len(data)\n",
        "numeric_features = ['age', 'TSH', 'T3', 'TT4', 'T4U','FTI', 'referral source']"
      ],
      "metadata": {
        "id": "rnrKA-msFTwO"
      },
      "id": "rnrKA-msFTwO",
      "execution_count": 7,
      "outputs": []
    },
    {
      "cell_type": "markdown",
      "source": [
        "#### Удаление аномальных значения из числовых столбцов методом IQR.\n",
        "\n",
        "Метод IQR (Interquartile Range, межквартильный размах) — это статистический метод, используемый для определения наличия выбросов в наборе данных. IQR представляет собой мера разброса данных и вычисляется как разность между третьим квартилем (Q3) и первым квартилем (Q1) в упорядоченном наборе данных."
      ],
      "metadata": {
        "id": "q6ZqWn_gEXa0"
      },
      "id": "q6ZqWn_gEXa0"
    },
    {
      "cell_type": "code",
      "source": [
        "TRESHOLD_Q3 = 0.95\n",
        "TRESHOLD_Q1 = 0.05\n",
        "\n",
        "for column_name in numeric_features:\n",
        "    Q3 = data[column_name].quantile(TRESHOLD_Q3)\n",
        "    Q1 = data[column_name].quantile(TRESHOLD_Q1)\n",
        "    print(f\"{column_name} [Q1, Q3] : [{Q1}, {Q3}]\")\n",
        "    IQR = Q3 - Q1\n",
        "    data_iqr = data[~((data[column_name] < Q1-0.1*IQR) | (data[column_name] > Q3+0.1*IQR))]\n",
        "N_after = len(data_iqr)\n",
        "print(\"{:.1f}% left\".format((N_after/N_before)*100))"
      ],
      "metadata": {
        "colab": {
          "base_uri": "https://localhost:8080/"
        },
        "id": "icX8GS4eJr5g",
        "outputId": "8d86c00c-4ffb-42b7-b760-fb19eee2204c"
      },
      "id": "icX8GS4eJr5g",
      "execution_count": 8,
      "outputs": [
        {
          "output_type": "stream",
          "name": "stdout",
          "text": [
            "age [Q1, Q3] : [12.0, 77.0]\n",
            "TSH [Q1, Q3] : [5.0, 287.0]\n",
            "T3 [Q1, Q3] : [9.0, 69.0]\n",
            "TT4 [Q1, Q3] : [4.0, 240.0]\n",
            "T4U [Q1, Q3] : [31.0, 146.0]\n",
            "FTI [Q1, Q3] : [3.0, 234.0]\n",
            "referral source [Q1, Q3] : [1.0, 4.0]\n",
            "97.0% left\n"
          ]
        }
      ]
    },
    {
      "cell_type": "markdown",
      "source": [
        "После удаление выбросов у нас осталось 97 процентов данных."
      ],
      "metadata": {
        "id": "JVEWoA6sKQZh"
      },
      "id": "JVEWoA6sKQZh"
    },
    {
      "cell_type": "markdown",
      "source": [
        "#### Удаление аномальных значения из числовых столбцов методом 3 сигм\n",
        "\n",
        "Правило 3 сигм, также известное как правило 68-95-99,7 или эмпирическое правило, представляет собой статистический метод обнаружения аномалий, предполагающий нормальное распределение данных. Он идентифицирует аномалии как точки данных, выходящие за пределы трех стандартных отклонений от среднего значения."
      ],
      "metadata": {
        "id": "XMcOdwfHIAYz"
      },
      "id": "XMcOdwfHIAYz"
    },
    {
      "cell_type": "code",
      "source": [
        "# Calculate the mean and standard deviation\n",
        "mean = data[numeric_features].mean()\n",
        "std = data[numeric_features].std()\n",
        "\n",
        "# Set the threshold for anomaly detection\n",
        "threshold = mean + 3 * std\n",
        "\n",
        "data_3sigmas = data.copy()\n",
        "data_3sigmas = data[data[numeric_features] <= threshold]\n",
        "\n",
        "N_after = len(data_3sigmas)\n",
        "\n",
        "print(\"{:.1f}% left\".format((N_after/N_before)*100))"
      ],
      "metadata": {
        "colab": {
          "base_uri": "https://localhost:8080/"
        },
        "id": "nyHc1tGGIApi",
        "outputId": "97cca79d-2cfb-46c7-a612-d2e970656143"
      },
      "id": "nyHc1tGGIApi",
      "execution_count": 9,
      "outputs": [
        {
          "output_type": "stream",
          "name": "stdout",
          "text": [
            "100.0% left\n"
          ]
        }
      ]
    },
    {
      "cell_type": "markdown",
      "source": [
        "Метод 3 сигм не обнаружил выбросов"
      ],
      "metadata": {
        "id": "QyLutGGyI-bT"
      },
      "id": "QyLutGGyI-bT"
    },
    {
      "cell_type": "markdown",
      "source": [
        "#### Удаление аномальных значения из числовых столбцов методом локального уровня выброса.\n",
        "\n",
        "Локальный уровень выброса — алгоритм нахождения аномальных точек данных путём измерения локального отклонения данной точки с учётом её соседей\n",
        "\n",
        "Локальный уровень выброса основывается на концепции локальной плотности, где локальность задаётся $k$-ближайшими соседями, расстояния до которых используются для оценки плотности. Путём сравнения локальной плотности объекта с локальной плотностью его соседей можно выделить области с аналогичной плотностью и точки, которые имеют существенно меньшую плотность, чем её соседи. Эти точки считаются выбросами.\n",
        "\n",
        "Значение, примерно равное $1$, означает, что объект сравним с его соседями (а тогда он не является выбросом). Значение меньше $1$ означает плотную область (которая может быть внутренностью), а значения, существенно большие $1$, свидетельствуют о выбросах.\n",
        "\n",
        "В sklearn:\n",
        "\n",
        "\"The higher, the more normal. Inliers tend to have a LOF score close to 1 (`negative_outlier_factor_` close to -1), while outliers tend to have a larger LOF score.\"\n",
        "\n",
        "Определим пороговое значение с помощью квантиля $0.05$"
      ],
      "metadata": {
        "id": "eucjijrDEVOi"
      },
      "id": "eucjijrDEVOi"
    },
    {
      "cell_type": "code",
      "source": [
        "lof = LocalOutlierFactor(n_neighbors=3)\n",
        "y_pred = lof.fit_predict(data[numeric_features])\n",
        "\n",
        "# Add the outlier scores to the dataframe\n",
        "data_lof = data.copy()\n",
        "data_lof['outlier_score'] = lof.negative_outlier_factor_\n",
        "\n",
        "threshold = np.quantile(data_lof['outlier_score'], .05)\n",
        "print(threshold)\n",
        "\n",
        "data_lof = data_lof[data_lof['outlier_score'] > threshold]\n",
        "\n",
        "N_after = len(data_lof)\n",
        "\n",
        "print(\"{:.1f}% left\".format((N_after/N_before)*100))"
      ],
      "metadata": {
        "colab": {
          "base_uri": "https://localhost:8080/"
        },
        "id": "toDK-a7aEorb",
        "outputId": "9a704130-f7a8-42db-f918-9aade7655fb1"
      },
      "id": "toDK-a7aEorb",
      "execution_count": 10,
      "outputs": [
        {
          "output_type": "stream",
          "name": "stdout",
          "text": [
            "-1.5088040318968927\n",
            "95.0% left\n"
          ]
        }
      ]
    },
    {
      "cell_type": "markdown",
      "source": [
        "В результате эксперимента было выявленно, что наилучшие решение достигается при использовании IQR метода."
      ],
      "metadata": {
        "id": "0cvtb5gRJKev"
      },
      "id": "0cvtb5gRJKev"
    },
    {
      "cell_type": "code",
      "source": [
        "data = data_iqr"
      ],
      "metadata": {
        "id": "uB3GjswpJRm0"
      },
      "id": "uB3GjswpJRm0",
      "execution_count": 11,
      "outputs": []
    },
    {
      "cell_type": "markdown",
      "source": [
        "### Описательные статистики"
      ],
      "metadata": {
        "id": "nQ_GwreOB5lH"
      },
      "id": "nQ_GwreOB5lH"
    },
    {
      "cell_type": "code",
      "source": [
        "data.describe()"
      ],
      "metadata": {
        "colab": {
          "base_uri": "https://localhost:8080/",
          "height": 428
        },
        "id": "MOi6CyN-9KF2",
        "outputId": "856698b4-0fd4-4725-d7b7-cc9206907c84"
      },
      "id": "MOi6CyN-9KF2",
      "execution_count": 12,
      "outputs": [
        {
          "output_type": "execute_result",
          "data": {
            "text/plain": [
              "               age          sex  on thyroxine  query on thyroxine  \\\n",
              "count  3599.000000  3599.000000   3599.000000         3599.000000   \n",
              "mean     47.207002     1.279244      0.126146            0.013893   \n",
              "std      20.700039     0.524115      0.332060            0.117062   \n",
              "min       0.000000     0.000000      0.000000            0.000000   \n",
              "25%      29.000000     1.000000      0.000000            0.000000   \n",
              "50%      50.000000     1.000000      0.000000            0.000000   \n",
              "75%      64.000000     2.000000      0.000000            0.000000   \n",
              "max      93.000000     2.000000      1.000000            1.000000   \n",
              "\n",
              "       on antithyroid medication         sick     pregnant  thyroid surgery  \\\n",
              "count                3599.000000  3599.000000  3599.000000      3599.000000   \n",
              "mean                    0.010281     0.040845     0.007780         0.014171   \n",
              "std                     0.100885     0.197958     0.087872         0.118210   \n",
              "min                     0.000000     0.000000     0.000000         0.000000   \n",
              "25%                     0.000000     0.000000     0.000000         0.000000   \n",
              "50%                     0.000000     0.000000     0.000000         0.000000   \n",
              "75%                     0.000000     0.000000     0.000000         0.000000   \n",
              "max                     1.000000     1.000000     1.000000         1.000000   \n",
              "\n",
              "       I131 treatment  query hypothyroid  ...  TT4 measured          TT4  \\\n",
              "count     3599.000000        3599.000000  ...   3599.000000  3599.000000   \n",
              "mean         0.016393           0.062795  ...      0.953043   119.589886   \n",
              "std          0.127001           0.242628  ...      0.211577    98.731198   \n",
              "min          0.000000           0.000000  ...      0.000000     0.000000   \n",
              "25%          0.000000           0.000000  ...      1.000000    21.000000   \n",
              "50%          0.000000           0.000000  ...      1.000000    79.000000   \n",
              "75%          0.000000           0.000000  ...      1.000000   226.000000   \n",
              "max          1.000000           1.000000  ...      1.000000   241.000000   \n",
              "\n",
              "       T4U measured          T4U  FTI measured          FTI  TBG measured  \\\n",
              "count   3599.000000  3599.000000   3599.000000  3599.000000        3599.0   \n",
              "mean       0.909697    64.041123      0.910253   108.264240           0.0   \n",
              "std        0.286655    30.999282      0.285859    97.032604           0.0   \n",
              "min        0.000000     0.000000      0.000000     0.000000           0.0   \n",
              "25%        1.000000    45.000000      1.000000    17.000000           0.0   \n",
              "50%        1.000000    57.000000      1.000000    55.000000           0.0   \n",
              "75%        1.000000    70.000000      1.000000   221.000000           0.0   \n",
              "max        1.000000   146.000000      1.000000   234.000000           0.0   \n",
              "\n",
              "          TBG  referral source  binaryClass  \n",
              "count  3599.0      3599.000000  3599.000000  \n",
              "mean      0.0         3.369269     0.921089  \n",
              "std       0.0         0.947810     0.269637  \n",
              "min       0.0         1.000000     0.000000  \n",
              "25%       0.0         3.000000     1.000000  \n",
              "50%       0.0         4.000000     1.000000  \n",
              "75%       0.0         4.000000     1.000000  \n",
              "max       0.0         4.000000     1.000000  \n",
              "\n",
              "[8 rows x 30 columns]"
            ],
            "text/html": [
              "\n",
              "  <div id=\"df-5e03dac9-ace1-4879-809a-6f5385951fcf\">\n",
              "    <div class=\"colab-df-container\">\n",
              "      <div>\n",
              "<style scoped>\n",
              "    .dataframe tbody tr th:only-of-type {\n",
              "        vertical-align: middle;\n",
              "    }\n",
              "\n",
              "    .dataframe tbody tr th {\n",
              "        vertical-align: top;\n",
              "    }\n",
              "\n",
              "    .dataframe thead th {\n",
              "        text-align: right;\n",
              "    }\n",
              "</style>\n",
              "<table border=\"1\" class=\"dataframe\">\n",
              "  <thead>\n",
              "    <tr style=\"text-align: right;\">\n",
              "      <th></th>\n",
              "      <th>age</th>\n",
              "      <th>sex</th>\n",
              "      <th>on thyroxine</th>\n",
              "      <th>query on thyroxine</th>\n",
              "      <th>on antithyroid medication</th>\n",
              "      <th>sick</th>\n",
              "      <th>pregnant</th>\n",
              "      <th>thyroid surgery</th>\n",
              "      <th>I131 treatment</th>\n",
              "      <th>query hypothyroid</th>\n",
              "      <th>...</th>\n",
              "      <th>TT4 measured</th>\n",
              "      <th>TT4</th>\n",
              "      <th>T4U measured</th>\n",
              "      <th>T4U</th>\n",
              "      <th>FTI measured</th>\n",
              "      <th>FTI</th>\n",
              "      <th>TBG measured</th>\n",
              "      <th>TBG</th>\n",
              "      <th>referral source</th>\n",
              "      <th>binaryClass</th>\n",
              "    </tr>\n",
              "  </thead>\n",
              "  <tbody>\n",
              "    <tr>\n",
              "      <th>count</th>\n",
              "      <td>3599.000000</td>\n",
              "      <td>3599.000000</td>\n",
              "      <td>3599.000000</td>\n",
              "      <td>3599.000000</td>\n",
              "      <td>3599.000000</td>\n",
              "      <td>3599.000000</td>\n",
              "      <td>3599.000000</td>\n",
              "      <td>3599.000000</td>\n",
              "      <td>3599.000000</td>\n",
              "      <td>3599.000000</td>\n",
              "      <td>...</td>\n",
              "      <td>3599.000000</td>\n",
              "      <td>3599.000000</td>\n",
              "      <td>3599.000000</td>\n",
              "      <td>3599.000000</td>\n",
              "      <td>3599.000000</td>\n",
              "      <td>3599.000000</td>\n",
              "      <td>3599.0</td>\n",
              "      <td>3599.0</td>\n",
              "      <td>3599.000000</td>\n",
              "      <td>3599.000000</td>\n",
              "    </tr>\n",
              "    <tr>\n",
              "      <th>mean</th>\n",
              "      <td>47.207002</td>\n",
              "      <td>1.279244</td>\n",
              "      <td>0.126146</td>\n",
              "      <td>0.013893</td>\n",
              "      <td>0.010281</td>\n",
              "      <td>0.040845</td>\n",
              "      <td>0.007780</td>\n",
              "      <td>0.014171</td>\n",
              "      <td>0.016393</td>\n",
              "      <td>0.062795</td>\n",
              "      <td>...</td>\n",
              "      <td>0.953043</td>\n",
              "      <td>119.589886</td>\n",
              "      <td>0.909697</td>\n",
              "      <td>64.041123</td>\n",
              "      <td>0.910253</td>\n",
              "      <td>108.264240</td>\n",
              "      <td>0.0</td>\n",
              "      <td>0.0</td>\n",
              "      <td>3.369269</td>\n",
              "      <td>0.921089</td>\n",
              "    </tr>\n",
              "    <tr>\n",
              "      <th>std</th>\n",
              "      <td>20.700039</td>\n",
              "      <td>0.524115</td>\n",
              "      <td>0.332060</td>\n",
              "      <td>0.117062</td>\n",
              "      <td>0.100885</td>\n",
              "      <td>0.197958</td>\n",
              "      <td>0.087872</td>\n",
              "      <td>0.118210</td>\n",
              "      <td>0.127001</td>\n",
              "      <td>0.242628</td>\n",
              "      <td>...</td>\n",
              "      <td>0.211577</td>\n",
              "      <td>98.731198</td>\n",
              "      <td>0.286655</td>\n",
              "      <td>30.999282</td>\n",
              "      <td>0.285859</td>\n",
              "      <td>97.032604</td>\n",
              "      <td>0.0</td>\n",
              "      <td>0.0</td>\n",
              "      <td>0.947810</td>\n",
              "      <td>0.269637</td>\n",
              "    </tr>\n",
              "    <tr>\n",
              "      <th>min</th>\n",
              "      <td>0.000000</td>\n",
              "      <td>0.000000</td>\n",
              "      <td>0.000000</td>\n",
              "      <td>0.000000</td>\n",
              "      <td>0.000000</td>\n",
              "      <td>0.000000</td>\n",
              "      <td>0.000000</td>\n",
              "      <td>0.000000</td>\n",
              "      <td>0.000000</td>\n",
              "      <td>0.000000</td>\n",
              "      <td>...</td>\n",
              "      <td>0.000000</td>\n",
              "      <td>0.000000</td>\n",
              "      <td>0.000000</td>\n",
              "      <td>0.000000</td>\n",
              "      <td>0.000000</td>\n",
              "      <td>0.000000</td>\n",
              "      <td>0.0</td>\n",
              "      <td>0.0</td>\n",
              "      <td>1.000000</td>\n",
              "      <td>0.000000</td>\n",
              "    </tr>\n",
              "    <tr>\n",
              "      <th>25%</th>\n",
              "      <td>29.000000</td>\n",
              "      <td>1.000000</td>\n",
              "      <td>0.000000</td>\n",
              "      <td>0.000000</td>\n",
              "      <td>0.000000</td>\n",
              "      <td>0.000000</td>\n",
              "      <td>0.000000</td>\n",
              "      <td>0.000000</td>\n",
              "      <td>0.000000</td>\n",
              "      <td>0.000000</td>\n",
              "      <td>...</td>\n",
              "      <td>1.000000</td>\n",
              "      <td>21.000000</td>\n",
              "      <td>1.000000</td>\n",
              "      <td>45.000000</td>\n",
              "      <td>1.000000</td>\n",
              "      <td>17.000000</td>\n",
              "      <td>0.0</td>\n",
              "      <td>0.0</td>\n",
              "      <td>3.000000</td>\n",
              "      <td>1.000000</td>\n",
              "    </tr>\n",
              "    <tr>\n",
              "      <th>50%</th>\n",
              "      <td>50.000000</td>\n",
              "      <td>1.000000</td>\n",
              "      <td>0.000000</td>\n",
              "      <td>0.000000</td>\n",
              "      <td>0.000000</td>\n",
              "      <td>0.000000</td>\n",
              "      <td>0.000000</td>\n",
              "      <td>0.000000</td>\n",
              "      <td>0.000000</td>\n",
              "      <td>0.000000</td>\n",
              "      <td>...</td>\n",
              "      <td>1.000000</td>\n",
              "      <td>79.000000</td>\n",
              "      <td>1.000000</td>\n",
              "      <td>57.000000</td>\n",
              "      <td>1.000000</td>\n",
              "      <td>55.000000</td>\n",
              "      <td>0.0</td>\n",
              "      <td>0.0</td>\n",
              "      <td>4.000000</td>\n",
              "      <td>1.000000</td>\n",
              "    </tr>\n",
              "    <tr>\n",
              "      <th>75%</th>\n",
              "      <td>64.000000</td>\n",
              "      <td>2.000000</td>\n",
              "      <td>0.000000</td>\n",
              "      <td>0.000000</td>\n",
              "      <td>0.000000</td>\n",
              "      <td>0.000000</td>\n",
              "      <td>0.000000</td>\n",
              "      <td>0.000000</td>\n",
              "      <td>0.000000</td>\n",
              "      <td>0.000000</td>\n",
              "      <td>...</td>\n",
              "      <td>1.000000</td>\n",
              "      <td>226.000000</td>\n",
              "      <td>1.000000</td>\n",
              "      <td>70.000000</td>\n",
              "      <td>1.000000</td>\n",
              "      <td>221.000000</td>\n",
              "      <td>0.0</td>\n",
              "      <td>0.0</td>\n",
              "      <td>4.000000</td>\n",
              "      <td>1.000000</td>\n",
              "    </tr>\n",
              "    <tr>\n",
              "      <th>max</th>\n",
              "      <td>93.000000</td>\n",
              "      <td>2.000000</td>\n",
              "      <td>1.000000</td>\n",
              "      <td>1.000000</td>\n",
              "      <td>1.000000</td>\n",
              "      <td>1.000000</td>\n",
              "      <td>1.000000</td>\n",
              "      <td>1.000000</td>\n",
              "      <td>1.000000</td>\n",
              "      <td>1.000000</td>\n",
              "      <td>...</td>\n",
              "      <td>1.000000</td>\n",
              "      <td>241.000000</td>\n",
              "      <td>1.000000</td>\n",
              "      <td>146.000000</td>\n",
              "      <td>1.000000</td>\n",
              "      <td>234.000000</td>\n",
              "      <td>0.0</td>\n",
              "      <td>0.0</td>\n",
              "      <td>4.000000</td>\n",
              "      <td>1.000000</td>\n",
              "    </tr>\n",
              "  </tbody>\n",
              "</table>\n",
              "<p>8 rows × 30 columns</p>\n",
              "</div>\n",
              "      <button class=\"colab-df-convert\" onclick=\"convertToInteractive('df-5e03dac9-ace1-4879-809a-6f5385951fcf')\"\n",
              "              title=\"Convert this dataframe to an interactive table.\"\n",
              "              style=\"display:none;\">\n",
              "        \n",
              "  <svg xmlns=\"http://www.w3.org/2000/svg\" height=\"24px\"viewBox=\"0 0 24 24\"\n",
              "       width=\"24px\">\n",
              "    <path d=\"M0 0h24v24H0V0z\" fill=\"none\"/>\n",
              "    <path d=\"M18.56 5.44l.94 2.06.94-2.06 2.06-.94-2.06-.94-.94-2.06-.94 2.06-2.06.94zm-11 1L8.5 8.5l.94-2.06 2.06-.94-2.06-.94L8.5 2.5l-.94 2.06-2.06.94zm10 10l.94 2.06.94-2.06 2.06-.94-2.06-.94-.94-2.06-.94 2.06-2.06.94z\"/><path d=\"M17.41 7.96l-1.37-1.37c-.4-.4-.92-.59-1.43-.59-.52 0-1.04.2-1.43.59L10.3 9.45l-7.72 7.72c-.78.78-.78 2.05 0 2.83L4 21.41c.39.39.9.59 1.41.59.51 0 1.02-.2 1.41-.59l7.78-7.78 2.81-2.81c.8-.78.8-2.07 0-2.86zM5.41 20L4 18.59l7.72-7.72 1.47 1.35L5.41 20z\"/>\n",
              "  </svg>\n",
              "      </button>\n",
              "      \n",
              "  <style>\n",
              "    .colab-df-container {\n",
              "      display:flex;\n",
              "      flex-wrap:wrap;\n",
              "      gap: 12px;\n",
              "    }\n",
              "\n",
              "    .colab-df-convert {\n",
              "      background-color: #E8F0FE;\n",
              "      border: none;\n",
              "      border-radius: 50%;\n",
              "      cursor: pointer;\n",
              "      display: none;\n",
              "      fill: #1967D2;\n",
              "      height: 32px;\n",
              "      padding: 0 0 0 0;\n",
              "      width: 32px;\n",
              "    }\n",
              "\n",
              "    .colab-df-convert:hover {\n",
              "      background-color: #E2EBFA;\n",
              "      box-shadow: 0px 1px 2px rgba(60, 64, 67, 0.3), 0px 1px 3px 1px rgba(60, 64, 67, 0.15);\n",
              "      fill: #174EA6;\n",
              "    }\n",
              "\n",
              "    [theme=dark] .colab-df-convert {\n",
              "      background-color: #3B4455;\n",
              "      fill: #D2E3FC;\n",
              "    }\n",
              "\n",
              "    [theme=dark] .colab-df-convert:hover {\n",
              "      background-color: #434B5C;\n",
              "      box-shadow: 0px 1px 3px 1px rgba(0, 0, 0, 0.15);\n",
              "      filter: drop-shadow(0px 1px 2px rgba(0, 0, 0, 0.3));\n",
              "      fill: #FFFFFF;\n",
              "    }\n",
              "  </style>\n",
              "\n",
              "      <script>\n",
              "        const buttonEl =\n",
              "          document.querySelector('#df-5e03dac9-ace1-4879-809a-6f5385951fcf button.colab-df-convert');\n",
              "        buttonEl.style.display =\n",
              "          google.colab.kernel.accessAllowed ? 'block' : 'none';\n",
              "\n",
              "        async function convertToInteractive(key) {\n",
              "          const element = document.querySelector('#df-5e03dac9-ace1-4879-809a-6f5385951fcf');\n",
              "          const dataTable =\n",
              "            await google.colab.kernel.invokeFunction('convertToInteractive',\n",
              "                                                     [key], {});\n",
              "          if (!dataTable) return;\n",
              "\n",
              "          const docLinkHtml = 'Like what you see? Visit the ' +\n",
              "            '<a target=\"_blank\" href=https://colab.research.google.com/notebooks/data_table.ipynb>data table notebook</a>'\n",
              "            + ' to learn more about interactive tables.';\n",
              "          element.innerHTML = '';\n",
              "          dataTable['output_type'] = 'display_data';\n",
              "          await google.colab.output.renderOutput(dataTable, element);\n",
              "          const docLink = document.createElement('div');\n",
              "          docLink.innerHTML = docLinkHtml;\n",
              "          element.appendChild(docLink);\n",
              "        }\n",
              "      </script>\n",
              "    </div>\n",
              "  </div>\n",
              "  "
            ]
          },
          "metadata": {},
          "execution_count": 12
        }
      ]
    },
    {
      "cell_type": "code",
      "execution_count": 13,
      "id": "e0901570",
      "metadata": {
        "execution": {
          "iopub.execute_input": "2022-11-08T06:21:53.639577Z",
          "iopub.status.busy": "2022-11-08T06:21:53.638881Z",
          "iopub.status.idle": "2022-11-08T06:21:53.748842Z",
          "shell.execute_reply": "2022-11-08T06:21:53.747385Z"
        },
        "papermill": {
          "duration": 0.120542,
          "end_time": "2022-11-08T06:21:53.751722",
          "exception": false,
          "start_time": "2022-11-08T06:21:53.631180",
          "status": "completed"
        },
        "tags": [],
        "colab": {
          "base_uri": "https://localhost:8080/",
          "height": 469
        },
        "id": "e0901570",
        "outputId": "d2c255ec-0b29-4a35-9ea3-709303e3ab9c"
      },
      "outputs": [
        {
          "output_type": "execute_result",
          "data": {
            "text/plain": [
              "Text(0.5, 1.0, '? F M')"
            ]
          },
          "metadata": {},
          "execution_count": 13
        },
        {
          "output_type": "display_data",
          "data": {
            "text/plain": [
              "<Figure size 640x480 with 1 Axes>"
            ],
            "image/png": "[encoded data removed]"
          },
          "metadata": {}
        }
      ],
      "source": [
        "data['sex'].hist()\n",
        "plt.title(' '.join(encoders['sex'].classes_))"
      ]
    },
    {
      "cell_type": "markdown",
      "source": [
        "женщин почти в два раза больше, чем мужчин"
      ],
      "metadata": {
        "id": "OIGQ3k4eFKQ2"
      },
      "id": "OIGQ3k4eFKQ2"
    },
    {
      "cell_type": "code",
      "source": [
        "data['age'].hist()\n",
        "data['age'].describe()"
      ],
      "metadata": {
        "colab": {
          "base_uri": "https://localhost:8080/",
          "height": 586
        },
        "id": "7fH1ZnrzFWWx",
        "outputId": "817e4389-aa40-4e7e-8a46-73360b7f9e28"
      },
      "id": "7fH1ZnrzFWWx",
      "execution_count": 14,
      "outputs": [
        {
          "output_type": "execute_result",
          "data": {
            "text/plain": [
              "count    3599.000000\n",
              "mean       47.207002\n",
              "std        20.700039\n",
              "min         0.000000\n",
              "25%        29.000000\n",
              "50%        50.000000\n",
              "75%        64.000000\n",
              "max        93.000000\n",
              "Name: age, dtype: float64"
            ]
          },
          "metadata": {},
          "execution_count": 14
        },
        {
          "output_type": "display_data",
          "data": {
            "text/plain": [
              "<Figure size 640x480 with 1 Axes>"
            ],
            "image/png": "[encoded data removed]"
          },
          "metadata": {}
        }
      ]
    },
    {
      "cell_type": "markdown",
      "source": [
        "распределение возрастов похоже на нормальное со среднем 46.5 и стандратным отклонение 20.8"
      ],
      "metadata": {
        "id": "_wuA0wmPFi1v"
      },
      "id": "_wuA0wmPFi1v"
    },
    {
      "cell_type": "code",
      "source": [
        "data['binaryClass'].hist()\n",
        "plt.title(' '.join(encoders['binaryClass'].classes_))"
      ],
      "metadata": {
        "colab": {
          "base_uri": "https://localhost:8080/",
          "height": 469
        },
        "id": "1HxfZuUgFv5w",
        "outputId": "d7b0878c-6ab1-46ec-e8fe-9fc06fb5d7b1"
      },
      "id": "1HxfZuUgFv5w",
      "execution_count": 15,
      "outputs": [
        {
          "output_type": "execute_result",
          "data": {
            "text/plain": [
              "Text(0.5, 1.0, 'N P')"
            ]
          },
          "metadata": {},
          "execution_count": 15
        },
        {
          "output_type": "display_data",
          "data": {
            "text/plain": [
              "<Figure size 640x480 with 1 Axes>"
            ],
            "image/png": "[encoded data removed]"
          },
          "metadata": {}
        }
      ]
    },
    {
      "cell_type": "markdown",
      "source": [
        "### Визуализация матрицы корреляции числовых признаков\n",
        "\n",
        "Heatmap для матрицы корреляции представляет собой визуализацию матрицы корреляции с использованием цветовых значений. Матрица корреляции - это таблица, которая показывает степень взаимосвязи между различными переменными. Каждая ячейка в матрице корреляции содержит значение корреляции между двумя переменными.\n",
        "\n",
        "Heatmap использует цветовую шкалу, чтобы представить значения корреляции. Обычно в heatmap используется градиентная шкала от одного цвета до другого, где разные оттенки цветов соответствуют различным значениям корреляции. Например, более высокие значения корреляции могут быть представлены более яркими или более насыщенными цветами, тогда как более низкие значения корреляции могут быть представлены более бледными или менее насыщенными цветами.\n",
        "\n",
        "Heatmap для матрицы корреляции позволяет визуально выявить структуру и силу взаимосвязей между переменными. Она может быть полезной для исследования данных, идентификации сильных или слабых связей между переменными и выявления паттернов или группировок в данных. Также heatmap может помочь при принятии решений о выборе переменных для анализа или моделирования, основываясь на их взаимосвязи с другими переменными."
      ],
      "metadata": {
        "id": "TFzBvy5g9hah"
      },
      "id": "TFzBvy5g9hah"
    },
    {
      "cell_type": "code",
      "source": [
        "sn.heatmap(data[numeric_features].corr())"
      ],
      "metadata": {
        "colab": {
          "base_uri": "https://localhost:8080/",
          "height": 540
        },
        "id": "ri57H64c9mq8",
        "outputId": "eb6231a1-4cad-4b1c-a85e-3359740d97e7"
      },
      "id": "ri57H64c9mq8",
      "execution_count": 16,
      "outputs": [
        {
          "output_type": "execute_result",
          "data": {
            "text/plain": [
              "<Axes: >"
            ]
          },
          "metadata": {},
          "execution_count": 16
        },
        {
          "output_type": "display_data",
          "data": {
            "text/plain": [
              "<Figure size 640x480 with 2 Axes>"
            ],
            "image/png": "[encoded data removed]"
          },
          "metadata": {}
        }
      ]
    },
    {
      "cell_type": "markdown",
      "source": [
        "### Визуализация зависимостей сильно коррелирующих пар с распределением по целевым классам."
      ],
      "metadata": {
        "id": "ZznhJo0G9V2j"
      },
      "id": "ZznhJo0G9V2j"
    },
    {
      "cell_type": "code",
      "source": [
        "class_colors = ['blue' if class_label == 0 else 'red' for class_label in data['binaryClass']]\n",
        "data.plot(kind='scatter', x='TT4', y='FTI', color=class_colors);"
      ],
      "metadata": {
        "id": "iuEBlp7S_Owe",
        "colab": {
          "base_uri": "https://localhost:8080/",
          "height": 449
        },
        "outputId": "ede907ea-3914-4675-e077-bac12d80ec7c"
      },
      "id": "iuEBlp7S_Owe",
      "execution_count": 17,
      "outputs": [
        {
          "output_type": "display_data",
          "data": {
            "text/plain": [
              "<Figure size 640x480 with 1 Axes>"
            ],
            "image/png": "[encoded data removed]"
          },
          "metadata": {}
        }
      ]
    },
    {
      "cell_type": "markdown",
      "source": [
        "На графике можно наблюдать явную линеную зависимость между признакми `TT4` и `FTI`."
      ],
      "metadata": {
        "id": "I8iEogYD_RWb"
      },
      "id": "I8iEogYD_RWb"
    },
    {
      "cell_type": "markdown",
      "source": [
        "### Визуализация матрицы корреляции категориальных признаков"
      ],
      "metadata": {
        "id": "jci4fYdJAPNE"
      },
      "id": "jci4fYdJAPNE"
    },
    {
      "cell_type": "code",
      "source": [
        "categorical_features = ['sex', 'on thyroxine', 'query on thyroxine',\n",
        "       'on antithyroid medication', 'sick', 'pregnant', 'thyroid surgery',\n",
        "       'I131 treatment', 'query hypothyroid', 'query hyperthyroid', 'lithium',\n",
        "       'goitre', 'tumor', 'hypopituitary', 'psych','binaryClass']\n",
        "\n",
        "sn.heatmap(data[categorical_features].corr())"
      ],
      "metadata": {
        "colab": {
          "base_uri": "https://localhost:8080/",
          "height": 618
        },
        "id": "dPuInV1oALY8",
        "outputId": "1580fc4e-b0c0-44fa-af1a-b0a368c4186f"
      },
      "id": "dPuInV1oALY8",
      "execution_count": 18,
      "outputs": [
        {
          "output_type": "execute_result",
          "data": {
            "text/plain": [
              "<Axes: >"
            ]
          },
          "metadata": {},
          "execution_count": 18
        },
        {
          "output_type": "display_data",
          "data": {
            "text/plain": [
              "<Figure size 640x480 with 2 Axes>"
            ],
            "image/png": "[encoded data removed]"
          },
          "metadata": {}
        }
      ]
    },
    {
      "cell_type": "markdown",
      "source": [
        "Категориальные признаки коррелируют незначительно"
      ],
      "metadata": {
        "id": "w5wK8vLaEMfL"
      },
      "id": "w5wK8vLaEMfL"
    },
    {
      "cell_type": "markdown",
      "source": [
        "### Дуговая диаграмма признаков"
      ],
      "metadata": {
        "id": "yZtZzsew_fVg"
      },
      "id": "yZtZzsew_fVg"
    },
    {
      "cell_type": "code",
      "source": [
        "men_pregnant = len(data[(data.sex == 0) & (data.pregnant == 1)])\n",
        "men_no_pregnant = len(data[(data.sex == 0) & (data.pregnant == 0)])\n",
        "\n",
        "women_pregnant = len(data[(data.sex == 1) & (data.pregnant == 1)])\n",
        "women_no_pregnant = len(data[(data.sex == 1) & (data.pregnant == 0)])\n",
        "\n",
        "fig, axis = plt.subplots(1,2)\n",
        "\n",
        "axis[0].pie([men_no_pregnant, men_pregnant], autopct='%.2f');\n",
        "axis[0].set_title('Мужчины (в процентах)')\n",
        "\n",
        "axis[1].pie([women_no_pregnant, women_pregnant], autopct='%.2f');\n",
        "axis[1].set_title('Женщины (в процентах)')\n",
        "axis[1].legend(['Наличие беремменности', 'Отсутствие беременности'], loc='upper left')"
      ],
      "metadata": {
        "colab": {
          "base_uri": "https://localhost:8080/",
          "height": 301
        },
        "id": "00a9tquECkmJ",
        "outputId": "3b2fb737-dcd3-46b5-98b3-8b7cab8f334a"
      },
      "id": "00a9tquECkmJ",
      "execution_count": 19,
      "outputs": [
        {
          "output_type": "execute_result",
          "data": {
            "text/plain": [
              "<matplotlib.legend.Legend at 0x7f51d4ca2710>"
            ]
          },
          "metadata": {},
          "execution_count": 19
        },
        {
          "output_type": "display_data",
          "data": {
            "text/plain": [
              "<Figure size 640x480 with 2 Axes>"
            ],
            "image/png": "[encoded data removed]"
          },
          "metadata": {}
        }
      ]
    },
    {
      "cell_type": "code",
      "source": [
        "men_tumor = len(data[(data.sex == 0) & (data.tumor == 1)])\n",
        "men_no_tumor = len(data[(data.sex == 0) & (data.tumor == 0)])\n",
        "\n",
        "women_tumor = len(data[(data.sex == 1) & (data.tumor == 1)])\n",
        "women_no_tumor = len(data[(data.sex == 1) & (data.tumor == 0)])\n",
        "\n",
        "fig, axis = plt.subplots(1,2)\n",
        "\n",
        "axis[0].pie([men_no_tumor, men_tumor], autopct='%.2f');\n",
        "axis[0].set_title('Мужчины (в процентах)')\n",
        "\n",
        "axis[1].pie([women_no_tumor, women_tumor], autopct='%.2f');\n",
        "axis[1].set_title('Женщины (в процентах)')\n",
        "axis[1].legend(['Нет опухоли', 'Есть опухоль'], loc='upper left');"
      ],
      "metadata": {
        "colab": {
          "base_uri": "https://localhost:8080/",
          "height": 284
        },
        "id": "qJ1i75BrFDMX",
        "outputId": "c7a6fc25-5b79-46d4-becc-1b18c317189f"
      },
      "id": "qJ1i75BrFDMX",
      "execution_count": 20,
      "outputs": [
        {
          "output_type": "display_data",
          "data": {
            "text/plain": [
              "<Figure size 640x480 with 2 Axes>"
            ],
            "image/png": "[encoded data removed]"
          },
          "metadata": {}
        }
      ]
    },
    {
      "cell_type": "markdown",
      "source": [
        "В представленных данных, у женщин в два раза чаще встречается опухоль, чем у мужчин."
      ],
      "metadata": {
        "id": "aINmjknX_tD7"
      },
      "id": "aINmjknX_tD7"
    },
    {
      "cell_type": "markdown",
      "source": [
        "### Дисбаланс данных\n",
        "\n",
        "Целевая переменная имеют значительный дисбаланс распределений. Данную проблему можно решить с помощью oversampling.\n",
        "\n",
        "Oversampling в машинном обучении - это техника, которая используется для балансировки классов в задачах классификации, когда один класс представлен недостаточным количеством образцов по сравнению с другими классами. Oversampling состоит в увеличении числа образцов минорного класса (менее представленного класса) путем создания дубликатов или генерации новых образцов.\n",
        "\n",
        "Основная цель oversampling - сделать распределение классов более сбалансированным и предотвратить проблемы, связанные с неравномерностью классов, такие как недообучение моделей или смещение в сторону доминирующего класса."
      ],
      "metadata": {
        "id": "8QsdW2LqF4jv"
      },
      "id": "8QsdW2LqF4jv"
    },
    {
      "cell_type": "code",
      "source": [
        "no = data[data.binaryClass == 0]\n",
        "yes = data[data.binaryClass == 1]\n",
        "no_oversampled = resample(no, replace=True, n_samples=len(yes), random_state=123)\n",
        "data_oversampled = pd.concat([yes, no_oversampled])\n",
        "data_oversampled['binaryClass'].value_counts()"
      ],
      "metadata": {
        "colab": {
          "base_uri": "https://localhost:8080/"
        },
        "id": "hDh7_h3fHFjE",
        "outputId": "41e4ed5d-1307-4d61-a8b9-caef3526a97c"
      },
      "id": "hDh7_h3fHFjE",
      "execution_count": 21,
      "outputs": [
        {
          "output_type": "execute_result",
          "data": {
            "text/plain": [
              "1    3315\n",
              "0    3315\n",
              "Name: binaryClass, dtype: int64"
            ]
          },
          "metadata": {},
          "execution_count": 21
        }
      ]
    },
    {
      "cell_type": "markdown",
      "source": [
        "### Нормализация данных\n",
        "\n",
        "Нормализуем численные переменные."
      ],
      "metadata": {
        "id": "FxSRBs8gHzKz"
      },
      "id": "FxSRBs8gHzKz"
    },
    {
      "cell_type": "code",
      "execution_count": 22,
      "id": "729bb0d9",
      "metadata": {
        "execution": {
          "iopub.execute_input": "2022-11-08T06:21:53.766258Z",
          "iopub.status.busy": "2022-11-08T06:21:53.765859Z",
          "iopub.status.idle": "2022-11-08T06:21:53.780994Z",
          "shell.execute_reply": "2022-11-08T06:21:53.779777Z"
        },
        "papermill": {
          "duration": 0.025922,
          "end_time": "2022-11-08T06:21:53.783760",
          "exception": false,
          "start_time": "2022-11-08T06:21:53.757838",
          "status": "completed"
        },
        "tags": [],
        "id": "729bb0d9"
      },
      "outputs": [],
      "source": [
        "features_to_normalize = ['age', 'TT4', 'T4U', 'FTI']\n",
        "\n",
        "for feature in features_to_normalize:\n",
        "  data_oversampled['age']=(data_oversampled['age']-\\\n",
        "                           data_oversampled['age'].min())/(data_oversampled['age'].max()-data_oversampled['age'].min())\n"
      ]
    },
    {
      "cell_type": "code",
      "execution_count": 23,
      "id": "7c6928f0",
      "metadata": {
        "execution": {
          "iopub.execute_input": "2022-11-08T06:21:53.797717Z",
          "iopub.status.busy": "2022-11-08T06:21:53.797283Z",
          "iopub.status.idle": "2022-11-08T06:21:53.822241Z",
          "shell.execute_reply": "2022-11-08T06:21:53.821332Z"
        },
        "papermill": {
          "duration": 0.03452,
          "end_time": "2022-11-08T06:21:53.824592",
          "exception": false,
          "start_time": "2022-11-08T06:21:53.790072",
          "status": "completed"
        },
        "tags": [],
        "colab": {
          "base_uri": "https://localhost:8080/",
          "height": 334
        },
        "id": "7c6928f0",
        "outputId": "52b3ff69-a7b3-43ad-8acb-ba473423fee2"
      },
      "outputs": [
        {
          "output_type": "execute_result",
          "data": {
            "text/plain": [
              "        age  sex  on thyroxine  query on thyroxine  on antithyroid medication  \\\n",
              "0  0.365591    1             0                   0                          0   \n",
              "1  0.161290    1             0                   0                          0   \n",
              "2  0.430108    2             0                   0                          0   \n",
              "3  0.720430    1             1                   0                          0   \n",
              "4  0.720430    1             0                   0                          0   \n",
              "\n",
              "   sick  pregnant  thyroid surgery  I131 treatment  query hypothyroid  ...  \\\n",
              "0     0         0                0               0                  0  ...   \n",
              "1     0         0                0               0                  0  ...   \n",
              "2     0         0                0               0                  0  ...   \n",
              "3     0         0                0               0                  0  ...   \n",
              "4     0         0                0               0                  0  ...   \n",
              "\n",
              "   TT4 measured  TT4  T4U measured  T4U  FTI measured  FTI  TBG measured  TBG  \\\n",
              "0             1   28             1   72             1   10             0    0   \n",
              "1             1    3             0  146             0  234             0    0   \n",
              "2             1   10             1   48             1   22             0    0   \n",
              "3             1   83             0  146             0  234             0    0   \n",
              "4             1  201             1   44             1  199             0    0   \n",
              "\n",
              "   referral source  binaryClass  \n",
              "0                1            1  \n",
              "1                4            1  \n",
              "2                4            1  \n",
              "3                4            1  \n",
              "4                3            1  \n",
              "\n",
              "[5 rows x 30 columns]"
            ],
            "text/html": [
              "\n",
              "  <div id=\"df-19e67e3f-9ca5-4ed1-9c1b-932cd27daaf4\">\n",
              "    <div class=\"colab-df-container\">\n",
              "      <div>\n",
              "<style scoped>\n",
              "    .dataframe tbody tr th:only-of-type {\n",
              "        vertical-align: middle;\n",
              "    }\n",
              "\n",
              "    .dataframe tbody tr th {\n",
              "        vertical-align: top;\n",
              "    }\n",
              "\n",
              "    .dataframe thead th {\n",
              "        text-align: right;\n",
              "    }\n",
              "</style>\n",
              "<table border=\"1\" class=\"dataframe\">\n",
              "  <thead>\n",
              "    <tr style=\"text-align: right;\">\n",
              "      <th></th>\n",
              "      <th>age</th>\n",
              "      <th>sex</th>\n",
              "      <th>on thyroxine</th>\n",
              "      <th>query on thyroxine</th>\n",
              "      <th>on antithyroid medication</th>\n",
              "      <th>sick</th>\n",
              "      <th>pregnant</th>\n",
              "      <th>thyroid surgery</th>\n",
              "      <th>I131 treatment</th>\n",
              "      <th>query hypothyroid</th>\n",
              "      <th>...</th>\n",
              "      <th>TT4 measured</th>\n",
              "      <th>TT4</th>\n",
              "      <th>T4U measured</th>\n",
              "      <th>T4U</th>\n",
              "      <th>FTI measured</th>\n",
              "      <th>FTI</th>\n",
              "      <th>TBG measured</th>\n",
              "      <th>TBG</th>\n",
              "      <th>referral source</th>\n",
              "      <th>binaryClass</th>\n",
              "    </tr>\n",
              "  </thead>\n",
              "  <tbody>\n",
              "    <tr>\n",
              "      <th>0</th>\n",
              "      <td>0.365591</td>\n",
              "      <td>1</td>\n",
              "      <td>0</td>\n",
              "      <td>0</td>\n",
              "      <td>0</td>\n",
              "      <td>0</td>\n",
              "      <td>0</td>\n",
              "      <td>0</td>\n",
              "      <td>0</td>\n",
              "      <td>0</td>\n",
              "      <td>...</td>\n",
              "      <td>1</td>\n",
              "      <td>28</td>\n",
              "      <td>1</td>\n",
              "      <td>72</td>\n",
              "      <td>1</td>\n",
              "      <td>10</td>\n",
              "      <td>0</td>\n",
              "      <td>0</td>\n",
              "      <td>1</td>\n",
              "      <td>1</td>\n",
              "    </tr>\n",
              "    <tr>\n",
              "      <th>1</th>\n",
              "      <td>0.161290</td>\n",
              "      <td>1</td>\n",
              "      <td>0</td>\n",
              "      <td>0</td>\n",
              "      <td>0</td>\n",
              "      <td>0</td>\n",
              "      <td>0</td>\n",
              "      <td>0</td>\n",
              "      <td>0</td>\n",
              "      <td>0</td>\n",
              "      <td>...</td>\n",
              "      <td>1</td>\n",
              "      <td>3</td>\n",
              "      <td>0</td>\n",
              "      <td>146</td>\n",
              "      <td>0</td>\n",
              "      <td>234</td>\n",
              "      <td>0</td>\n",
              "      <td>0</td>\n",
              "      <td>4</td>\n",
              "      <td>1</td>\n",
              "    </tr>\n",
              "    <tr>\n",
              "      <th>2</th>\n",
              "      <td>0.430108</td>\n",
              "      <td>2</td>\n",
              "      <td>0</td>\n",
              "      <td>0</td>\n",
              "      <td>0</td>\n",
              "      <td>0</td>\n",
              "      <td>0</td>\n",
              "      <td>0</td>\n",
              "      <td>0</td>\n",
              "      <td>0</td>\n",
              "      <td>...</td>\n",
              "      <td>1</td>\n",
              "      <td>10</td>\n",
              "      <td>1</td>\n",
              "      <td>48</td>\n",
              "      <td>1</td>\n",
              "      <td>22</td>\n",
              "      <td>0</td>\n",
              "      <td>0</td>\n",
              "      <td>4</td>\n",
              "      <td>1</td>\n",
              "    </tr>\n",
              "    <tr>\n",
              "      <th>3</th>\n",
              "      <td>0.720430</td>\n",
              "      <td>1</td>\n",
              "      <td>1</td>\n",
              "      <td>0</td>\n",
              "      <td>0</td>\n",
              "      <td>0</td>\n",
              "      <td>0</td>\n",
              "      <td>0</td>\n",
              "      <td>0</td>\n",
              "      <td>0</td>\n",
              "      <td>...</td>\n",
              "      <td>1</td>\n",
              "      <td>83</td>\n",
              "      <td>0</td>\n",
              "      <td>146</td>\n",
              "      <td>0</td>\n",
              "      <td>234</td>\n",
              "      <td>0</td>\n",
              "      <td>0</td>\n",
              "      <td>4</td>\n",
              "      <td>1</td>\n",
              "    </tr>\n",
              "    <tr>\n",
              "      <th>4</th>\n",
              "      <td>0.720430</td>\n",
              "      <td>1</td>\n",
              "      <td>0</td>\n",
              "      <td>0</td>\n",
              "      <td>0</td>\n",
              "      <td>0</td>\n",
              "      <td>0</td>\n",
              "      <td>0</td>\n",
              "      <td>0</td>\n",
              "      <td>0</td>\n",
              "      <td>...</td>\n",
              "      <td>1</td>\n",
              "      <td>201</td>\n",
              "      <td>1</td>\n",
              "      <td>44</td>\n",
              "      <td>1</td>\n",
              "      <td>199</td>\n",
              "      <td>0</td>\n",
              "      <td>0</td>\n",
              "      <td>3</td>\n",
              "      <td>1</td>\n",
              "    </tr>\n",
              "  </tbody>\n",
              "</table>\n",
              "<p>5 rows × 30 columns</p>\n",
              "</div>\n",
              "      <button class=\"colab-df-convert\" onclick=\"convertToInteractive('df-19e67e3f-9ca5-4ed1-9c1b-932cd27daaf4')\"\n",
              "              title=\"Convert this dataframe to an interactive table.\"\n",
              "              style=\"display:none;\">\n",
              "        \n",
              "  <svg xmlns=\"http://www.w3.org/2000/svg\" height=\"24px\"viewBox=\"0 0 24 24\"\n",
              "       width=\"24px\">\n",
              "    <path d=\"M0 0h24v24H0V0z\" fill=\"none\"/>\n",
              "    <path d=\"M18.56 5.44l.94 2.06.94-2.06 2.06-.94-2.06-.94-.94-2.06-.94 2.06-2.06.94zm-11 1L8.5 8.5l.94-2.06 2.06-.94-2.06-.94L8.5 2.5l-.94 2.06-2.06.94zm10 10l.94 2.06.94-2.06 2.06-.94-2.06-.94-.94-2.06-.94 2.06-2.06.94z\"/><path d=\"M17.41 7.96l-1.37-1.37c-.4-.4-.92-.59-1.43-.59-.52 0-1.04.2-1.43.59L10.3 9.45l-7.72 7.72c-.78.78-.78 2.05 0 2.83L4 21.41c.39.39.9.59 1.41.59.51 0 1.02-.2 1.41-.59l7.78-7.78 2.81-2.81c.8-.78.8-2.07 0-2.86zM5.41 20L4 18.59l7.72-7.72 1.47 1.35L5.41 20z\"/>\n",
              "  </svg>\n",
              "      </button>\n",
              "      \n",
              "  <style>\n",
              "    .colab-df-container {\n",
              "      display:flex;\n",
              "      flex-wrap:wrap;\n",
              "      gap: 12px;\n",
              "    }\n",
              "\n",
              "    .colab-df-convert {\n",
              "      background-color: #E8F0FE;\n",
              "      border: none;\n",
              "      border-radius: 50%;\n",
              "      cursor: pointer;\n",
              "      display: none;\n",
              "      fill: #1967D2;\n",
              "      height: 32px;\n",
              "      padding: 0 0 0 0;\n",
              "      width: 32px;\n",
              "    }\n",
              "\n",
              "    .colab-df-convert:hover {\n",
              "      background-color: #E2EBFA;\n",
              "      box-shadow: 0px 1px 2px rgba(60, 64, 67, 0.3), 0px 1px 3px 1px rgba(60, 64, 67, 0.15);\n",
              "      fill: #174EA6;\n",
              "    }\n",
              "\n",
              "    [theme=dark] .colab-df-convert {\n",
              "      background-color: #3B4455;\n",
              "      fill: #D2E3FC;\n",
              "    }\n",
              "\n",
              "    [theme=dark] .colab-df-convert:hover {\n",
              "      background-color: #434B5C;\n",
              "      box-shadow: 0px 1px 3px 1px rgba(0, 0, 0, 0.15);\n",
              "      filter: drop-shadow(0px 1px 2px rgba(0, 0, 0, 0.3));\n",
              "      fill: #FFFFFF;\n",
              "    }\n",
              "  </style>\n",
              "\n",
              "      <script>\n",
              "        const buttonEl =\n",
              "          document.querySelector('#df-19e67e3f-9ca5-4ed1-9c1b-932cd27daaf4 button.colab-df-convert');\n",
              "        buttonEl.style.display =\n",
              "          google.colab.kernel.accessAllowed ? 'block' : 'none';\n",
              "\n",
              "        async function convertToInteractive(key) {\n",
              "          const element = document.querySelector('#df-19e67e3f-9ca5-4ed1-9c1b-932cd27daaf4');\n",
              "          const dataTable =\n",
              "            await google.colab.kernel.invokeFunction('convertToInteractive',\n",
              "                                                     [key], {});\n",
              "          if (!dataTable) return;\n",
              "\n",
              "          const docLinkHtml = 'Like what you see? Visit the ' +\n",
              "            '<a target=\"_blank\" href=https://colab.research.google.com/notebooks/data_table.ipynb>data table notebook</a>'\n",
              "            + ' to learn more about interactive tables.';\n",
              "          element.innerHTML = '';\n",
              "          dataTable['output_type'] = 'display_data';\n",
              "          await google.colab.output.renderOutput(dataTable, element);\n",
              "          const docLink = document.createElement('div');\n",
              "          docLink.innerHTML = docLinkHtml;\n",
              "          element.appendChild(docLink);\n",
              "        }\n",
              "      </script>\n",
              "    </div>\n",
              "  </div>\n",
              "  "
            ]
          },
          "metadata": {},
          "execution_count": 23
        }
      ],
      "source": [
        "data_oversampled.head()"
      ]
    },
    {
      "cell_type": "markdown",
      "source": [
        "### Модели класстеризации"
      ],
      "metadata": {
        "id": "HtxricsHBCSI"
      },
      "id": "HtxricsHBCSI"
    },
    {
      "cell_type": "code",
      "source": [
        "# Выделяем признаки и целевую переменную\n",
        "X = data_oversampled.drop(columns=['binaryClass'])\n",
        "y = data_oversampled['binaryClass'].values"
      ],
      "metadata": {
        "id": "bbznH2YDTvVL"
      },
      "id": "bbznH2YDTvVL",
      "execution_count": 24,
      "outputs": []
    },
    {
      "cell_type": "markdown",
      "source": [
        "#### Метод k-средних"
      ],
      "metadata": {
        "id": "EUDhb8QyJgb7"
      },
      "id": "EUDhb8QyJgb7"
    },
    {
      "cell_type": "markdown",
      "source": [
        "Мы начнем исследование моделей класстеризации с наиболее популярного алгоритма -- метод k-средних.\n",
        "\n",
        "Основная идея данного алгоритма заключается в том, что на каждой итерации перевычисляется центр масс для каждого кластера, полученного на предыдущем шаге, затем векторы разбиваются на кластеры вновь в соответствии с тем, какой из новых центров оказался ближе по выбранной метрике.\n",
        "\n",
        "Алгоритм завершается, когда на какой-то итерации не происходит изменения внутрикластерного расстояния. Это происходит за конечное число итераций, так как количество возможных разбиений конечного множества конечно, а на каждом шаге суммарное квадратичное отклонение V уменьшается, поэтому зацикливание невозможно."
      ],
      "metadata": {
        "id": "mX6zwUMwFRQ4"
      },
      "id": "mX6zwUMwFRQ4"
    },
    {
      "cell_type": "code",
      "source": [
        "# Определить область определения сетки гиперпараметров\n",
        "params_domain = {\n",
        "    'n_init': [5, 10, 15],\n",
        "    'init': ['k-means++', 'random'],\n",
        "    'algorithm': [\"lloyd\", \"elkan\"]\n",
        "}\n",
        "\n",
        "# Делаем сетку гиперпараметров декартовым произведением\n",
        "params_grid = list(product(\n",
        "             params_domain['n_init'],\n",
        "             params_domain['init'],\n",
        "             params_domain['algorithm'])\n",
        ")\n",
        "\n",
        "record_silhouette_avg = -1\n",
        "\n",
        "for param_grid_item in params_grid:\n",
        "\n",
        "  # Обучение класстеризации\n",
        "  kmeans = KMeans(n_clusters=2, n_init = param_grid_item[0],\n",
        "                  init=param_grid_item[1],\n",
        "                  algorithm=param_grid_item[2]\n",
        "                  )\n",
        "  y_hat = kmeans.fit_predict(X)\n",
        "\n",
        "  # Получение метрики silhouette для полученных кластеров\n",
        "  silhouette_avg = silhouette_score(X, kmeans.labels_)\n",
        "  if silhouette_avg > record_silhouette_avg:\n",
        "    record_silhouette_avg = silhouette_avg\n",
        "    best_params = param_grid_item\n",
        "\n",
        "print(\"Лучший silhouette score {:.2f}, лучшие параметры: n_init={}, init={}, algorithm={}\".format(record_silhouette_avg, *best_params))"
      ],
      "metadata": {
        "colab": {
          "base_uri": "https://localhost:8080/"
        },
        "id": "fYJh7dWQBER9",
        "outputId": "6e1f11db-f7fa-45f2-fa07-c1cb8922fa40"
      },
      "id": "fYJh7dWQBER9",
      "execution_count": 25,
      "outputs": [
        {
          "output_type": "stream",
          "name": "stdout",
          "text": [
            "Лучший silhouette score 0.43, лучшие параметры: n_init=5, init=k-means++, algorithm=lloyd\n"
          ]
        }
      ]
    },
    {
      "cell_type": "markdown",
      "source": [
        "Таким образом, точность алгоритма kmeans составляет $66$ процентов, а метрика silhouette -- $0.42$"
      ],
      "metadata": {
        "id": "_NmZs0AyE6L4"
      },
      "id": "_NmZs0AyE6L4"
    },
    {
      "cell_type": "markdown",
      "source": [
        "#### Метод иерархической кластеризации"
      ],
      "metadata": {
        "id": "bDvOnTURJkgx"
      },
      "id": "bDvOnTURJkgx"
    },
    {
      "cell_type": "markdown",
      "source": [
        "Следующий алгоритм для исследования -- иерархическая кластеризация. Иерархическая кластеризация (также графовые алгоритмы кластеризации и иерархический кластерный анализ) — совокупность алгоритмов упорядочивания данных, направленных на создание иерархии (дерева) вложенных кластеров.\n",
        "\n",
        "Мы будем исследовать класс методов иерархическая кластеризации, которые называются агломеративные методы. Данные методы заключаются в том, что новые кластеры создаются путем объединения более мелких кластеров и, таким образом, дерево создается от листьев к стволу;"
      ],
      "metadata": {
        "id": "4v0xLtXFFqUd"
      },
      "id": "4v0xLtXFFqUd"
    },
    {
      "cell_type": "code",
      "source": [
        "# Определить область определения сетки гиперпараметров\n",
        "params_domain = {\n",
        "    'metric': [\"l1\", \"l2\", \"cosine\"],\n",
        "    'compute_full_tree': [True, False],\n",
        "    'linkage': [\"complete\", \"average\", \"single\"]\n",
        "}\n",
        "\n",
        "# Делаем сетку гиперпараметров декартовым произведением\n",
        "params_grid = list(product(\n",
        "             params_domain['metric'],\n",
        "             params_domain['compute_full_tree'],\n",
        "             params_domain['linkage'])\n",
        ")\n",
        "\n",
        "record_silhouette_avg = -1\n",
        "\n",
        "for param_grid_item in params_grid:\n",
        "\n",
        "  # Обучение класстеризации\n",
        "  agg_clustering = AgglomerativeClustering(n_clusters=2, metric=param_grid_item[0],\n",
        "                                           compute_full_tree=param_grid_item[1],\n",
        "                                           linkage=param_grid_item[2])\n",
        "\n",
        "  y_hat = agg_clustering.fit_predict(X)\n",
        "\n",
        "  # Получение метрики silhouette для полученных кластеров\n",
        "  silhouette_avg = silhouette_score(X, agg_clustering.labels_)\n",
        "  if silhouette_avg > record_silhouette_avg:\n",
        "    record_silhouette_avg = silhouette_avg\n",
        "    best_params = param_grid_item\n",
        "\n",
        "print(\"Лучший silhouette score {:.2f}, лучшие параметры: metric={}, compute_full_tree={}, linkage={}\".format(record_silhouette_avg, *best_params))"
      ],
      "metadata": {
        "colab": {
          "base_uri": "https://localhost:8080/"
        },
        "id": "dLj1T3RDKY32",
        "outputId": "cac2e917-535e-41b0-a850-9407a90981f2"
      },
      "id": "dLj1T3RDKY32",
      "execution_count": 26,
      "outputs": [
        {
          "output_type": "stream",
          "name": "stdout",
          "text": [
            "Лучший silhouette score 0.42, лучшие параметры: metric=l1, compute_full_tree=True, linkage=complete\n"
          ]
        }
      ]
    },
    {
      "cell_type": "markdown",
      "source": [
        "Таким образом, точность алгоритма иерархической класстеризации составляет $33$ процентов, а метрика silhouette -- $0.41$"
      ],
      "metadata": {
        "id": "sW_F46buHMK8"
      },
      "id": "sW_F46buHMK8"
    },
    {
      "cell_type": "markdown",
      "source": [
        "#### Алгоритм сдвига среднего значения (англ. mean shift).\n",
        "\n",
        "Данный алгоритм позволяет найти локальные максимумы функции плотности вероятности, представленной набором данных.\n",
        "\n",
        "Алгоритм сдвига среднего значения начинается с случайного выбора точки в пространстве данных. Затем он вычисляет среднее значение всех точек в некотором окрестности выбранной точки и сдвигает выбранную точку в направлении найденного среднего значения. Процесс повторяется, пока выбранная точка не стабилизируется в локальном максимуме плотности или до достижения определенного критерия остановки.\n",
        "\n",
        "Основная идея алгоритма заключается в том, чтобы сдвигать точку в сторону увеличения плотности данных, что приводит к сжатию кластеров и устранению шума. В результате получается набор точек, сосредоточенных вокруг локальных максимумов плотности, что позволяет идентифицировать различные кластеры или пики в данных."
      ],
      "metadata": {
        "id": "1TiJJMciLULg"
      },
      "id": "1TiJJMciLULg"
    },
    {
      "cell_type": "code",
      "source": [
        "# Определить область определения сетки гиперпараметров\n",
        "params_domain = {\n",
        "    'max_iter': range(300, 1000, 100),\n",
        "}\n",
        "\n",
        "# Делаем сетку гиперпараметров декартовым произведением\n",
        "params_grid = list(product(\n",
        "             params_domain['max_iter']\n",
        ")\n",
        ")\n",
        "\n",
        "record_silhouette_avg = -1\n",
        "\n",
        "for param_grid_item in params_grid:\n",
        "\n",
        "  # Обучение класстеризации\n",
        "  meanshift_clustering = MeanShift(max_iter=param_grid_item[0])\n",
        "  y_hat = meanshift_clustering.fit_predict(X)\n",
        "\n",
        "  # Получение метрики silhouette для полученных кластеров\n",
        "  silhouette_avg = silhouette_score(X, meanshift_clustering.labels_)\n",
        "  if silhouette_avg > record_silhouette_avg:\n",
        "    record_silhouette_avg = silhouette_avg\n",
        "    best_params = param_grid_item\n",
        "\n",
        "print(\"Лучший silhouette score {:.2f}, лучшие параметры: max_iter={}\".format(record_silhouette_avg, *best_params))"
      ],
      "metadata": {
        "colab": {
          "base_uri": "https://localhost:8080/"
        },
        "id": "GnVl5btRLMOc",
        "outputId": "3a72b3f3-4528-45c7-d598-0c4bdf2a4b8c"
      },
      "id": "GnVl5btRLMOc",
      "execution_count": 27,
      "outputs": [
        {
          "output_type": "stream",
          "name": "stdout",
          "text": [
            "Лучший silhouette score 0.41, лучшие параметры: max_iter=300\n"
          ]
        }
      ]
    },
    {
      "cell_type": "markdown",
      "source": [
        "#### Алгоритм DBSCAN\n",
        "\n",
        "Основанная на плотности пространственная кластеризация для приложений с шумами (англ. Density-based spatial clustering of applications with noise, DBSCAN) — это алгоритм кластеризации, основанный на плотности — если дан набор точек в некотором пространстве, алгоритм группирует вместе точки, которые тесно расположены (точки со многими близкими соседями), помечая как выбросы точки, которые находятся одиноко в областях с малой плотностью (ближайшие соседи которых лежат далеко)."
      ],
      "metadata": {
        "id": "Da3sNfKqNgI4"
      },
      "id": "Da3sNfKqNgI4"
    },
    {
      "cell_type": "code",
      "source": [
        "# Определить область определения сетки гиперпараметров\n",
        "params_domain = {\n",
        "    'eps': [0.5, 0.7, 0.9],\n",
        "    \"min_samples\": range(5, 12, 2),\n",
        "    \"algorithm\": [\"ball_tree\", \"kd_tree\", \"brute\"],\n",
        "}\n",
        "\n",
        "# Делаем сетку гиперпараметров декартовым произведением\n",
        "params_grid = list(product(\n",
        "             params_domain['eps'],\n",
        "             params_domain['min_samples'],\n",
        "             params_domain['algorithm']\n",
        ")\n",
        ")\n",
        "\n",
        "record_silhouette_avg = -1\n",
        "\n",
        "for param_grid_item in params_grid:\n",
        "\n",
        "  # Обучение класстеризации\n",
        "  dbscan = DBSCAN(eps=param_grid_item[0],\n",
        "                  min_samples=param_grid_item[1],\n",
        "                  algorithm=param_grid_item[2])\n",
        "  y_hat = dbscan.fit_predict(X)\n",
        "\n",
        "  # Получение метрики silhouette для полученных кластеров\n",
        "  silhouette_avg = silhouette_score(X, dbscan.labels_)\n",
        "  if silhouette_avg > record_silhouette_avg:\n",
        "    record_silhouette_avg = silhouette_avg\n",
        "    best_params = param_grid_item\n",
        "\n",
        "print(\"Лучший silhouette score {:.2f}, лучшие параметры: eps={}, min_samples={}, algorithm={}\".format(record_silhouette_avg, *best_params))"
      ],
      "metadata": {
        "colab": {
          "base_uri": "https://localhost:8080/"
        },
        "id": "n0QTBw79LzGr",
        "outputId": "6addcbc4-d809-444b-ce8b-daca051e3f5e"
      },
      "id": "n0QTBw79LzGr",
      "execution_count": 28,
      "outputs": [
        {
          "output_type": "stream",
          "name": "stdout",
          "text": [
            "Лучший silhouette score 0.14, лучшие параметры: eps=0.5, min_samples=5, algorithm=ball_tree\n"
          ]
        }
      ]
    },
    {
      "cell_type": "markdown",
      "source": [
        "DBSCAN предсказывает слишком много кластеров:"
      ],
      "metadata": {
        "id": "DPyru8cISl-6"
      },
      "id": "DPyru8cISl-6"
    },
    {
      "cell_type": "code",
      "source": [
        "len(set(y_hat))"
      ],
      "metadata": {
        "colab": {
          "base_uri": "https://localhost:8080/"
        },
        "id": "NgR2gcn9SrR7",
        "outputId": "92ee37d1-71b5-4ee2-a331-b60fd9d8bbb9"
      },
      "id": "NgR2gcn9SrR7",
      "execution_count": 29,
      "outputs": [
        {
          "output_type": "execute_result",
          "data": {
            "text/plain": [
              "177"
            ]
          },
          "metadata": {},
          "execution_count": 29
        }
      ]
    },
    {
      "cell_type": "markdown",
      "source": [
        "#### Вывод\n",
        "\n",
        "Таким образом, лучший silhouette score равный $0.43$ был достигнут с помощью метода kmeans с параметрами: `n_init=5, init=k-means++, algorithm=lloyd`"
      ],
      "metadata": {
        "id": "VtTsrFw7UWkY"
      },
      "id": "VtTsrFw7UWkY"
    },
    {
      "cell_type": "code",
      "source": [
        "kmeans = KMeans(n_clusters=2, n_init = 5,\n",
        "                  init=\"k-means++\",\n",
        "                  algorithm=\"lloyd\"\n",
        "                  )\n",
        "y_hat = kmeans.fit_predict(X)"
      ],
      "metadata": {
        "id": "GUGE3v0ZQVal"
      },
      "id": "GUGE3v0ZQVal",
      "execution_count": 30,
      "outputs": []
    },
    {
      "cell_type": "markdown",
      "source": [
        "### Интерпретация кластеров\n",
        "\n",
        "Рассмотрим описательные статистики некоторых признаков, которые можно интерпретировать, для класстеров, полученные лучшим алгоритмом."
      ],
      "metadata": {
        "id": "waQoq3eMRQcb"
      },
      "id": "waQoq3eMRQcb"
    },
    {
      "cell_type": "code",
      "source": [
        "X.iloc[np.where(y_hat == 1)][['age', 'sex', 'on thyroxine']].describe()"
      ],
      "metadata": {
        "colab": {
          "base_uri": "https://localhost:8080/",
          "height": 300
        },
        "id": "V33Yk1yXQuGt",
        "outputId": "9504f364-0cc1-4e53-c58d-57756d7ecc21"
      },
      "id": "V33Yk1yXQuGt",
      "execution_count": 31,
      "outputs": [
        {
          "output_type": "execute_result",
          "data": {
            "text/plain": [
              "               age          sex  on thyroxine\n",
              "count  2946.000000  2946.000000   2946.000000\n",
              "mean      0.515830     1.289206      0.120842\n",
              "std       0.220843     0.512525      0.325999\n",
              "min       0.000000     0.000000      0.000000\n",
              "25%       0.322581     1.000000      0.000000\n",
              "50%       0.548387     1.000000      0.000000\n",
              "75%       0.688172     2.000000      0.000000\n",
              "max       1.000000     2.000000      1.000000"
            ],
            "text/html": [
              "\n",
              "  <div id=\"df-af7b9b32-8306-44b8-8d90-765248dd0f2a\">\n",
              "    <div class=\"colab-df-container\">\n",
              "      <div>\n",
              "<style scoped>\n",
              "    .dataframe tbody tr th:only-of-type {\n",
              "        vertical-align: middle;\n",
              "    }\n",
              "\n",
              "    .dataframe tbody tr th {\n",
              "        vertical-align: top;\n",
              "    }\n",
              "\n",
              "    .dataframe thead th {\n",
              "        text-align: right;\n",
              "    }\n",
              "</style>\n",
              "<table border=\"1\" class=\"dataframe\">\n",
              "  <thead>\n",
              "    <tr style=\"text-align: right;\">\n",
              "      <th></th>\n",
              "      <th>age</th>\n",
              "      <th>sex</th>\n",
              "      <th>on thyroxine</th>\n",
              "    </tr>\n",
              "  </thead>\n",
              "  <tbody>\n",
              "    <tr>\n",
              "      <th>count</th>\n",
              "      <td>2946.000000</td>\n",
              "      <td>2946.000000</td>\n",
              "      <td>2946.000000</td>\n",
              "    </tr>\n",
              "    <tr>\n",
              "      <th>mean</th>\n",
              "      <td>0.515830</td>\n",
              "      <td>1.289206</td>\n",
              "      <td>0.120842</td>\n",
              "    </tr>\n",
              "    <tr>\n",
              "      <th>std</th>\n",
              "      <td>0.220843</td>\n",
              "      <td>0.512525</td>\n",
              "      <td>0.325999</td>\n",
              "    </tr>\n",
              "    <tr>\n",
              "      <th>min</th>\n",
              "      <td>0.000000</td>\n",
              "      <td>0.000000</td>\n",
              "      <td>0.000000</td>\n",
              "    </tr>\n",
              "    <tr>\n",
              "      <th>25%</th>\n",
              "      <td>0.322581</td>\n",
              "      <td>1.000000</td>\n",
              "      <td>0.000000</td>\n",
              "    </tr>\n",
              "    <tr>\n",
              "      <th>50%</th>\n",
              "      <td>0.548387</td>\n",
              "      <td>1.000000</td>\n",
              "      <td>0.000000</td>\n",
              "    </tr>\n",
              "    <tr>\n",
              "      <th>75%</th>\n",
              "      <td>0.688172</td>\n",
              "      <td>2.000000</td>\n",
              "      <td>0.000000</td>\n",
              "    </tr>\n",
              "    <tr>\n",
              "      <th>max</th>\n",
              "      <td>1.000000</td>\n",
              "      <td>2.000000</td>\n",
              "      <td>1.000000</td>\n",
              "    </tr>\n",
              "  </tbody>\n",
              "</table>\n",
              "</div>\n",
              "      <button class=\"colab-df-convert\" onclick=\"convertToInteractive('df-af7b9b32-8306-44b8-8d90-765248dd0f2a')\"\n",
              "              title=\"Convert this dataframe to an interactive table.\"\n",
              "              style=\"display:none;\">\n",
              "        \n",
              "  <svg xmlns=\"http://www.w3.org/2000/svg\" height=\"24px\"viewBox=\"0 0 24 24\"\n",
              "       width=\"24px\">\n",
              "    <path d=\"M0 0h24v24H0V0z\" fill=\"none\"/>\n",
              "    <path d=\"M18.56 5.44l.94 2.06.94-2.06 2.06-.94-2.06-.94-.94-2.06-.94 2.06-2.06.94zm-11 1L8.5 8.5l.94-2.06 2.06-.94-2.06-.94L8.5 2.5l-.94 2.06-2.06.94zm10 10l.94 2.06.94-2.06 2.06-.94-2.06-.94-.94-2.06-.94 2.06-2.06.94z\"/><path d=\"M17.41 7.96l-1.37-1.37c-.4-.4-.92-.59-1.43-.59-.52 0-1.04.2-1.43.59L10.3 9.45l-7.72 7.72c-.78.78-.78 2.05 0 2.83L4 21.41c.39.39.9.59 1.41.59.51 0 1.02-.2 1.41-.59l7.78-7.78 2.81-2.81c.8-.78.8-2.07 0-2.86zM5.41 20L4 18.59l7.72-7.72 1.47 1.35L5.41 20z\"/>\n",
              "  </svg>\n",
              "      </button>\n",
              "      \n",
              "  <style>\n",
              "    .colab-df-container {\n",
              "      display:flex;\n",
              "      flex-wrap:wrap;\n",
              "      gap: 12px;\n",
              "    }\n",
              "\n",
              "    .colab-df-convert {\n",
              "      background-color: #E8F0FE;\n",
              "      border: none;\n",
              "      border-radius: 50%;\n",
              "      cursor: pointer;\n",
              "      display: none;\n",
              "      fill: #1967D2;\n",
              "      height: 32px;\n",
              "      padding: 0 0 0 0;\n",
              "      width: 32px;\n",
              "    }\n",
              "\n",
              "    .colab-df-convert:hover {\n",
              "      background-color: #E2EBFA;\n",
              "      box-shadow: 0px 1px 2px rgba(60, 64, 67, 0.3), 0px 1px 3px 1px rgba(60, 64, 67, 0.15);\n",
              "      fill: #174EA6;\n",
              "    }\n",
              "\n",
              "    [theme=dark] .colab-df-convert {\n",
              "      background-color: #3B4455;\n",
              "      fill: #D2E3FC;\n",
              "    }\n",
              "\n",
              "    [theme=dark] .colab-df-convert:hover {\n",
              "      background-color: #434B5C;\n",
              "      box-shadow: 0px 1px 3px 1px rgba(0, 0, 0, 0.15);\n",
              "      filter: drop-shadow(0px 1px 2px rgba(0, 0, 0, 0.3));\n",
              "      fill: #FFFFFF;\n",
              "    }\n",
              "  </style>\n",
              "\n",
              "      <script>\n",
              "        const buttonEl =\n",
              "          document.querySelector('#df-af7b9b32-8306-44b8-8d90-765248dd0f2a button.colab-df-convert');\n",
              "        buttonEl.style.display =\n",
              "          google.colab.kernel.accessAllowed ? 'block' : 'none';\n",
              "\n",
              "        async function convertToInteractive(key) {\n",
              "          const element = document.querySelector('#df-af7b9b32-8306-44b8-8d90-765248dd0f2a');\n",
              "          const dataTable =\n",
              "            await google.colab.kernel.invokeFunction('convertToInteractive',\n",
              "                                                     [key], {});\n",
              "          if (!dataTable) return;\n",
              "\n",
              "          const docLinkHtml = 'Like what you see? Visit the ' +\n",
              "            '<a target=\"_blank\" href=https://colab.research.google.com/notebooks/data_table.ipynb>data table notebook</a>'\n",
              "            + ' to learn more about interactive tables.';\n",
              "          element.innerHTML = '';\n",
              "          dataTable['output_type'] = 'display_data';\n",
              "          await google.colab.output.renderOutput(dataTable, element);\n",
              "          const docLink = document.createElement('div');\n",
              "          docLink.innerHTML = docLinkHtml;\n",
              "          element.appendChild(docLink);\n",
              "        }\n",
              "      </script>\n",
              "    </div>\n",
              "  </div>\n",
              "  "
            ]
          },
          "metadata": {},
          "execution_count": 31
        }
      ]
    },
    {
      "cell_type": "code",
      "source": [
        "X.iloc[np.where(y_hat == 0)][['age', 'sex', 'on thyroxine']].describe()"
      ],
      "metadata": {
        "colab": {
          "base_uri": "https://localhost:8080/",
          "height": 300
        },
        "id": "6C5pNF4rQwsR",
        "outputId": "c95657f7-b23e-4225-8bce-2470d581096a"
      },
      "id": "6C5pNF4rQwsR",
      "execution_count": 32,
      "outputs": [
        {
          "output_type": "execute_result",
          "data": {
            "text/plain": [
              "               age          sex  on thyroxine\n",
              "count  3684.000000  3684.000000   3684.000000\n",
              "mean      0.501497     1.216884      0.051303\n",
              "std       0.218191     0.489840      0.220645\n",
              "min       0.000000     0.000000      0.000000\n",
              "25%       0.311828     1.000000      0.000000\n",
              "50%       0.537634     1.000000      0.000000\n",
              "75%       0.677419     2.000000      0.000000\n",
              "max       0.978495     2.000000      1.000000"
            ],
            "text/html": [
              "\n",
              "  <div id=\"df-7974bb3b-3ecc-45ba-8730-d1fa728d437b\">\n",
              "    <div class=\"colab-df-container\">\n",
              "      <div>\n",
              "<style scoped>\n",
              "    .dataframe tbody tr th:only-of-type {\n",
              "        vertical-align: middle;\n",
              "    }\n",
              "\n",
              "    .dataframe tbody tr th {\n",
              "        vertical-align: top;\n",
              "    }\n",
              "\n",
              "    .dataframe thead th {\n",
              "        text-align: right;\n",
              "    }\n",
              "</style>\n",
              "<table border=\"1\" class=\"dataframe\">\n",
              "  <thead>\n",
              "    <tr style=\"text-align: right;\">\n",
              "      <th></th>\n",
              "      <th>age</th>\n",
              "      <th>sex</th>\n",
              "      <th>on thyroxine</th>\n",
              "    </tr>\n",
              "  </thead>\n",
              "  <tbody>\n",
              "    <tr>\n",
              "      <th>count</th>\n",
              "      <td>3684.000000</td>\n",
              "      <td>3684.000000</td>\n",
              "      <td>3684.000000</td>\n",
              "    </tr>\n",
              "    <tr>\n",
              "      <th>mean</th>\n",
              "      <td>0.501497</td>\n",
              "      <td>1.216884</td>\n",
              "      <td>0.051303</td>\n",
              "    </tr>\n",
              "    <tr>\n",
              "      <th>std</th>\n",
              "      <td>0.218191</td>\n",
              "      <td>0.489840</td>\n",
              "      <td>0.220645</td>\n",
              "    </tr>\n",
              "    <tr>\n",
              "      <th>min</th>\n",
              "      <td>0.000000</td>\n",
              "      <td>0.000000</td>\n",
              "      <td>0.000000</td>\n",
              "    </tr>\n",
              "    <tr>\n",
              "      <th>25%</th>\n",
              "      <td>0.311828</td>\n",
              "      <td>1.000000</td>\n",
              "      <td>0.000000</td>\n",
              "    </tr>\n",
              "    <tr>\n",
              "      <th>50%</th>\n",
              "      <td>0.537634</td>\n",
              "      <td>1.000000</td>\n",
              "      <td>0.000000</td>\n",
              "    </tr>\n",
              "    <tr>\n",
              "      <th>75%</th>\n",
              "      <td>0.677419</td>\n",
              "      <td>2.000000</td>\n",
              "      <td>0.000000</td>\n",
              "    </tr>\n",
              "    <tr>\n",
              "      <th>max</th>\n",
              "      <td>0.978495</td>\n",
              "      <td>2.000000</td>\n",
              "      <td>1.000000</td>\n",
              "    </tr>\n",
              "  </tbody>\n",
              "</table>\n",
              "</div>\n",
              "      <button class=\"colab-df-convert\" onclick=\"convertToInteractive('df-7974bb3b-3ecc-45ba-8730-d1fa728d437b')\"\n",
              "              title=\"Convert this dataframe to an interactive table.\"\n",
              "              style=\"display:none;\">\n",
              "        \n",
              "  <svg xmlns=\"http://www.w3.org/2000/svg\" height=\"24px\"viewBox=\"0 0 24 24\"\n",
              "       width=\"24px\">\n",
              "    <path d=\"M0 0h24v24H0V0z\" fill=\"none\"/>\n",
              "    <path d=\"M18.56 5.44l.94 2.06.94-2.06 2.06-.94-2.06-.94-.94-2.06-.94 2.06-2.06.94zm-11 1L8.5 8.5l.94-2.06 2.06-.94-2.06-.94L8.5 2.5l-.94 2.06-2.06.94zm10 10l.94 2.06.94-2.06 2.06-.94-2.06-.94-.94-2.06-.94 2.06-2.06.94z\"/><path d=\"M17.41 7.96l-1.37-1.37c-.4-.4-.92-.59-1.43-.59-.52 0-1.04.2-1.43.59L10.3 9.45l-7.72 7.72c-.78.78-.78 2.05 0 2.83L4 21.41c.39.39.9.59 1.41.59.51 0 1.02-.2 1.41-.59l7.78-7.78 2.81-2.81c.8-.78.8-2.07 0-2.86zM5.41 20L4 18.59l7.72-7.72 1.47 1.35L5.41 20z\"/>\n",
              "  </svg>\n",
              "      </button>\n",
              "      \n",
              "  <style>\n",
              "    .colab-df-container {\n",
              "      display:flex;\n",
              "      flex-wrap:wrap;\n",
              "      gap: 12px;\n",
              "    }\n",
              "\n",
              "    .colab-df-convert {\n",
              "      background-color: #E8F0FE;\n",
              "      border: none;\n",
              "      border-radius: 50%;\n",
              "      cursor: pointer;\n",
              "      display: none;\n",
              "      fill: #1967D2;\n",
              "      height: 32px;\n",
              "      padding: 0 0 0 0;\n",
              "      width: 32px;\n",
              "    }\n",
              "\n",
              "    .colab-df-convert:hover {\n",
              "      background-color: #E2EBFA;\n",
              "      box-shadow: 0px 1px 2px rgba(60, 64, 67, 0.3), 0px 1px 3px 1px rgba(60, 64, 67, 0.15);\n",
              "      fill: #174EA6;\n",
              "    }\n",
              "\n",
              "    [theme=dark] .colab-df-convert {\n",
              "      background-color: #3B4455;\n",
              "      fill: #D2E3FC;\n",
              "    }\n",
              "\n",
              "    [theme=dark] .colab-df-convert:hover {\n",
              "      background-color: #434B5C;\n",
              "      box-shadow: 0px 1px 3px 1px rgba(0, 0, 0, 0.15);\n",
              "      filter: drop-shadow(0px 1px 2px rgba(0, 0, 0, 0.3));\n",
              "      fill: #FFFFFF;\n",
              "    }\n",
              "  </style>\n",
              "\n",
              "      <script>\n",
              "        const buttonEl =\n",
              "          document.querySelector('#df-7974bb3b-3ecc-45ba-8730-d1fa728d437b button.colab-df-convert');\n",
              "        buttonEl.style.display =\n",
              "          google.colab.kernel.accessAllowed ? 'block' : 'none';\n",
              "\n",
              "        async function convertToInteractive(key) {\n",
              "          const element = document.querySelector('#df-7974bb3b-3ecc-45ba-8730-d1fa728d437b');\n",
              "          const dataTable =\n",
              "            await google.colab.kernel.invokeFunction('convertToInteractive',\n",
              "                                                     [key], {});\n",
              "          if (!dataTable) return;\n",
              "\n",
              "          const docLinkHtml = 'Like what you see? Visit the ' +\n",
              "            '<a target=\"_blank\" href=https://colab.research.google.com/notebooks/data_table.ipynb>data table notebook</a>'\n",
              "            + ' to learn more about interactive tables.';\n",
              "          element.innerHTML = '';\n",
              "          dataTable['output_type'] = 'display_data';\n",
              "          await google.colab.output.renderOutput(dataTable, element);\n",
              "          const docLink = document.createElement('div');\n",
              "          docLink.innerHTML = docLinkHtml;\n",
              "          element.appendChild(docLink);\n",
              "        }\n",
              "      </script>\n",
              "    </div>\n",
              "  </div>\n",
              "  "
            ]
          },
          "metadata": {},
          "execution_count": 32
        }
      ]
    },
    {
      "cell_type": "markdown",
      "source": [
        "Как можно видеть средние значение признака `on thyroxine` более чем в два раза больше у кластера `1`, чем у кластера `0`. Т.е. прием тироксина (thyroxine) оказывает значительное влияение на кластеризацию.\n",
        "\n",
        "Основной функцией тироксина является активация процессов метаболизма, которая осуществляется через стимуляцию синтеза РНК и соответствующих белков. Тироксин влияет на обмен веществ, повышает температуру тела, контролирует рост и развитие организма, увеличивает синтез белков и чувствительность к катехоламинам, увеличивает частоту сердечных сокращений, утолщает слизистую оболочку матки. Усиливает окислительные процессы в клетках всего организма, в частности и клетках мозга. Тироксин важен для надлежащего развития и дифференцировки всех клеток человеческого тела, также может стимулировать метаболизм витаминов."
      ],
      "metadata": {
        "id": "lKxtB83MRieY"
      },
      "id": "lKxtB83MRieY"
    }
  ],
  "metadata": {
    "kernelspec": {
      "display_name": "Python 3",
      "language": "python",
      "name": "python3"
    },
    "language_info": {
      "codemirror_mode": {
        "name": "ipython",
        "version": 3
      },
      "file_extension": ".py",
      "mimetype": "text/x-python",
      "name": "python",
      "nbconvert_exporter": "python",
      "pygments_lexer": "ipython3",
      "version": "3.7.12"
    },
    "papermill": {
      "default_parameters": {},
      "duration": 13.076911,
      "end_time": "2022-11-08T06:21:55.595771",
      "environment_variables": {},
      "exception": null,
      "input_path": "__notebook__.ipynb",
      "output_path": "__notebook__.ipynb",
      "parameters": {},
      "start_time": "2022-11-08T06:21:42.518860",
      "version": "2.3.4"
    },
    "colab": {
      "provenance": []
    }
  },
  "nbformat": 4,
  "nbformat_minor": 5
}